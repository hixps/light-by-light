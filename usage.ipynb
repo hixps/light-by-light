{
 "cells": [
  {
   "cell_type": "markdown",
   "id": "fc1dfa1f-ad87-47a9-929e-2df3e0ed7a94",
   "metadata": {},
   "source": [
    "Usage notebook"
   ]
  },
  {
   "cell_type": "code",
   "execution_count": 11,
   "id": "4a581011-af8a-4b6b-8406-2d54f0978b11",
   "metadata": {},
   "outputs": [],
   "source": [
    "import numpy as np\n",
    "import matplotlib.pyplot as plt\n",
    "from pathlib import Path\n",
    "import os\n",
    "import optuna\n",
    "\n",
    "from light_by_light.vacem_ini import W_to_E0\n",
    "from light_by_light.vacem_simulation import run_gridscan\n",
    "from light_by_light.optuna_optimization import run_optuna_optimization\n",
    "from light_by_light.utils import write_yaml"
   ]
  },
  {
   "cell_type": "markdown",
   "id": "3aa09f78-b8bc-4364-916f-da2ee36aab98",
   "metadata": {
    "jp-MarkdownHeadingCollapsed": true,
    "tags": []
   },
   "source": [
    "### Gridscan simulation"
   ]
  },
  {
   "cell_type": "code",
   "execution_count": 9,
   "id": "a11db23d-1701-41a0-806e-4262013c824d",
   "metadata": {},
   "outputs": [],
   "source": [
    "# Laser pulse parameters\n",
    "laser_params = []\n",
    "for i in range(2):\n",
    "    laser = {\n",
    "        'tau': 25e-15,\n",
    "        'lam': 800e-9,\n",
    "        'w0': 2*800e-9,\n",
    "        'W': 25,\n",
    "        'theta': 180*i,\n",
    "        'phi': 0,\n",
    "        'beta': 0,\n",
    "        'solution': 'gaussian_paraxial'\n",
    "    }\n",
    "    laser['E0'] = float(W_to_E0(laser))\n",
    "    laser_params.append(laser)\n",
    "\n",
    "laser_params = {f'laser_{i}': value for i,value in enumerate(laser_params)}\n",
    "\n",
    "# Simulation box parameters\n",
    "box_factors = {\n",
    "    'long': 8,\n",
    "    'trans': 20,\n",
    "    't': 2\n",
    "}\n",
    "\n",
    "resolutions = {\n",
    "    'spatial': 1,\n",
    "    't': 1\n",
    "}\n",
    "simbox_params = {'box_factors': box_factors,\n",
    "                 'resolutions': resolutions}\n",
    "\n",
    "# Other parameters\n",
    "mode = 'gridscan'\n",
    "geometry = 'xz'\n",
    "low_memory_mode = False\n",
    "n_threads = 24\n",
    "pol_idx = 0\n",
    "\n",
    "obj_param = 'N_total'\n",
    "n_trials = 10\n",
    "\n",
    "data = {\n",
    "    '_mode': mode,\n",
    "    'lasers': laser_params,\n",
    "    'simbox_params': simbox_params,\n",
    "    'geometry': geometry,\n",
    "    'low_memory_mode': low_memory_mode,\n",
    "    'n_threads': n_threads,\n",
    "    'pol_idx': pol_idx,\n",
    "}\n",
    "\n",
    "# Variable parameters \n",
    "laser_key = 'laser_0'\n",
    "param_key = 'tau'\n",
    "grid = [20,40,3,1e-15]\n",
    "vary_params = {\n",
    "    'lasers': {laser_key: {param_key: grid}}\n",
    "}\n",
    "\n",
    "# Save yaml files\n",
    "save_path = 'runs/test/gridscan/experiment/'\n",
    "Path(os.path.dirname(save_path)).mkdir(parents=True, exist_ok=True)\n",
    "\n",
    "default_yaml = f'{save_path}default_params.yml'\n",
    "write_yaml(default_yaml, data)\n",
    "\n",
    "vary_yaml = f'{save_path}vary_params.yml'\n",
    "write_yaml(vary_yaml, vary_params)"
   ]
  },
  {
   "cell_type": "code",
   "execution_count": 3,
   "id": "41f2e945-400c-40e3-a8ef-5cb442790197",
   "metadata": {
    "collapsed": true,
    "jupyter": {
     "outputs_hidden": true
    },
    "tags": []
   },
   "outputs": [
    {
     "name": "stdout",
     "output_type": "stream",
     "text": [
      "Parsing config...\n",
      "Initializing SolverBase...\n",
      "Initializing FieldSolver...\n",
      "Initializing laser_1...\n"
     ]
    },
    {
     "name": "stderr",
     "output_type": "stream",
     "text": [
      "/home/wi73yus/packages/vacem-master/vacem/fields/parse_config.py:41: UserWarning: Warning: Unknown option key spectrum_method in section laser_1 will be ignored.\n",
      "  warnings.warn(\"Warning: Unknown option key {key} in section {section} will be ignored.\".format(key=k, section=section._name))\n",
      "/home/wi73yus/packages/vacem-master/vacem/fields/parse_config.py:41: UserWarning: Warning: Unknown option key spectrum_method in section laser_2 will be ignored.\n",
      "  warnings.warn(\"Warning: Unknown option key {key} in section {section} will be ignored.\".format(key=k, section=section._name))\n"
     ]
    },
    {
     "name": "stdout",
     "output_type": "stream",
     "text": [
      "Initializing laser_2...\n",
      "Initializing VacEm...\n",
      "Starting main loop.\n",
      "100%|██████████| 225/225 [00:13<00:00, 16.18it/s]\n",
      "\n",
      "\n",
      "Performance statistics\n",
      "======================\n",
      "\n",
      "Maximum memory usage:            482.4MiB\n",
      "Total wall time:               14.45s\n",
      "Performed iterations:          225\n",
      "Initialization wall time:      0.47s\n",
      "Wall time per iteration:       0.06s\n",
      "Successfully dumped to:        runs/test/gridscan/experiment/laser_0_tau/tau_20/_vacem.npz\n"
     ]
    },
    {
     "name": "stderr",
     "output_type": "stream",
     "text": [
      "/home/wi73yus/.conda/envs/lbl/lib/python3.9/site-packages/numpy/lib/npyio.py:719: VisibleDeprecationWarning: Creating an ndarray from ragged nested sequences (which is a list-or-tuple of lists-or-tuples-or ndarrays with different lengths or shapes) is deprecated. If you meant to do this, you must specify 'dtype=object' when creating the ndarray.\n",
      "  val = np.asanyarray(val)\n"
     ]
    },
    {
     "name": "stdout",
     "output_type": "stream",
     "text": [
      "Parsing config...\n",
      "Initializing SolverBase...\n",
      "Initializing FieldSolver...\n",
      "Initializing laser_1...\n"
     ]
    },
    {
     "name": "stderr",
     "output_type": "stream",
     "text": [
      "/home/wi73yus/packages/vacem-master/vacem/fields/parse_config.py:41: UserWarning: Warning: Unknown option key spectrum_method in section laser_1 will be ignored.\n",
      "  warnings.warn(\"Warning: Unknown option key {key} in section {section} will be ignored.\".format(key=k, section=section._name))\n",
      "/home/wi73yus/packages/vacem-master/vacem/fields/parse_config.py:41: UserWarning: Warning: Unknown option key spectrum_method in section laser_2 will be ignored.\n",
      "  warnings.warn(\"Warning: Unknown option key {key} in section {section} will be ignored.\".format(key=k, section=section._name))\n"
     ]
    },
    {
     "name": "stdout",
     "output_type": "stream",
     "text": [
      "Initializing laser_2...\n",
      "Initializing VacEm...\n",
      "Starting main loop.\n",
      "100%|██████████| 270/270 [00:23<00:00, 11.47it/s]\n",
      "\n",
      "\n",
      "Performance statistics\n",
      "======================\n",
      "\n",
      "Maximum memory usage:            728.2MiB\n",
      "Total wall time:               24.24s\n",
      "Performed iterations:          270\n",
      "Initialization wall time:      0.60s\n",
      "Wall time per iteration:       0.09s\n",
      "Successfully dumped to:        runs/test/gridscan/experiment/laser_0_tau/tau_30/_vacem.npz\n"
     ]
    },
    {
     "name": "stderr",
     "output_type": "stream",
     "text": [
      "/home/wi73yus/.conda/envs/lbl/lib/python3.9/site-packages/numpy/lib/npyio.py:719: VisibleDeprecationWarning: Creating an ndarray from ragged nested sequences (which is a list-or-tuple of lists-or-tuples-or ndarrays with different lengths or shapes) is deprecated. If you meant to do this, you must specify 'dtype=object' when creating the ndarray.\n",
      "  val = np.asanyarray(val)\n"
     ]
    },
    {
     "name": "stdout",
     "output_type": "stream",
     "text": [
      "Parsing config...\n",
      "Initializing SolverBase...\n",
      "Initializing FieldSolver...\n",
      "Initializing laser_1...\n"
     ]
    },
    {
     "name": "stderr",
     "output_type": "stream",
     "text": [
      "/home/wi73yus/packages/vacem-master/vacem/fields/parse_config.py:41: UserWarning: Warning: Unknown option key spectrum_method in section laser_1 will be ignored.\n",
      "  warnings.warn(\"Warning: Unknown option key {key} in section {section} will be ignored.\".format(key=k, section=section._name))\n",
      "/home/wi73yus/packages/vacem-master/vacem/fields/parse_config.py:41: UserWarning: Warning: Unknown option key spectrum_method in section laser_2 will be ignored.\n",
      "  warnings.warn(\"Warning: Unknown option key {key} in section {section} will be ignored.\".format(key=k, section=section._name))\n"
     ]
    },
    {
     "name": "stdout",
     "output_type": "stream",
     "text": [
      "Initializing laser_2...\n",
      "Initializing VacEm...\n",
      "Starting main loop.\n",
      "100%|██████████| 360/360 [00:48<00:00,  7.49it/s]\n",
      "\n",
      "\n",
      "Performance statistics\n",
      "======================\n",
      "\n",
      "Maximum memory usage:            1.1GiB\n",
      "Total wall time:               49.24s\n",
      "Performed iterations:          360\n",
      "Initialization wall time:      0.98s\n",
      "Wall time per iteration:       0.13s\n",
      "Successfully dumped to:        runs/test/gridscan/experiment/laser_0_tau/tau_40/_vacem.npz\n"
     ]
    },
    {
     "name": "stderr",
     "output_type": "stream",
     "text": [
      "/home/wi73yus/.conda/envs/lbl/lib/python3.9/site-packages/numpy/lib/npyio.py:719: VisibleDeprecationWarning: Creating an ndarray from ragged nested sequences (which is a list-or-tuple of lists-or-tuples-or ndarrays with different lengths or shapes) is deprecated. If you meant to do this, you must specify 'dtype=object' when creating the ndarray.\n",
      "  val = np.asanyarray(val)\n"
     ]
    },
    {
     "name": "stdout",
     "output_type": "stream",
     "text": [
      "Grid simulation finished!\n"
     ]
    }
   ],
   "source": [
    "run_gridscan(default_yaml, vary_yaml, save_path)"
   ]
  },
  {
   "cell_type": "code",
   "execution_count": 7,
   "id": "488f3035-319e-4b88-8e46-da92f9927810",
   "metadata": {},
   "outputs": [],
   "source": [
    "keys = ['N_total', 'Nperp_total', 'N_disc', 'Nperp_disc']\n",
    "results = {key: [] for key in keys}\n",
    "tau_grid = np.linspace(grid[0], grid[1], grid[2], endpoint=True, dtype=int)\n",
    "for tau in tau_grid:\n",
    "    path_loc = f'{save_path}{laser_key}_{param_key}/{param_key}_{tau}/postprocess_data.npz' \n",
    "    result_loc = np.load(path_loc)\n",
    "    for key in keys:\n",
    "        results[key].append(result_loc[key])"
   ]
  },
  {
   "cell_type": "code",
   "execution_count": 10,
   "id": "f6f81979-acc7-4a79-95ef-de5be635973b",
   "metadata": {},
   "outputs": [
    {
     "data": {
      "image/png": "[encoded data removed]",
      "text/plain": [
       "<Figure size 640x480 with 1 Axes>"
      ]
     },
     "metadata": {},
     "output_type": "display_data"
    }
   ],
   "source": [
    "plt.figure()\n",
    "plt.plot(tau_grid, results['N_total'], '.--', ms=15)\n",
    "plt.show()"
   ]
  },
  {
   "cell_type": "code",
   "execution_count": 4,
   "id": "c3bdd3be-8e86-4a26-a647-1fdfe179efa3",
   "metadata": {
    "collapsed": true,
    "jupyter": {
     "outputs_hidden": true
    },
    "tags": []
   },
   "outputs": [
    {
     "name": "stdout",
     "output_type": "stream",
     "text": [
      "Parsing config...\n",
      "Initializing SolverBase...\n",
      "Initializing FieldSolver...\n",
      "Initializing laser_1...\n"
     ]
    },
    {
     "name": "stderr",
     "output_type": "stream",
     "text": [
      "/home/wi73yus/packages/vacem-master/vacem/fields/parse_config.py:41: UserWarning: Warning: Unknown option key spectrum_method in section laser_1 will be ignored.\n",
      "  warnings.warn(\"Warning: Unknown option key {key} in section {section} will be ignored.\".format(key=k, section=section._name))\n",
      "/home/wi73yus/packages/vacem-master/vacem/fields/parse_config.py:41: UserWarning: Warning: Unknown option key spectrum_method in section laser_2 will be ignored.\n",
      "  warnings.warn(\"Warning: Unknown option key {key} in section {section} will be ignored.\".format(key=k, section=section._name))\n"
     ]
    },
    {
     "name": "stdout",
     "output_type": "stream",
     "text": [
      "Initializing laser_2...\n",
      "Initializing VacEm...\n",
      "Starting main loop.\n",
      "100%|██████████| 225/225 [00:12<00:00, 17.67it/s]\n",
      "\n",
      "\n",
      "Performance statistics\n",
      "======================\n",
      "\n",
      "Maximum memory usage:            483.6MiB\n",
      "Total wall time:               13.30s\n",
      "Performed iterations:          225\n",
      "Initialization wall time:      0.49s\n",
      "Wall time per iteration:       0.06s\n"
     ]
    },
    {
     "name": "stderr",
     "output_type": "stream",
     "text": [
      "/home/wi73yus/.conda/envs/lbl/lib/python3.9/site-packages/numpy/lib/npyio.py:719: VisibleDeprecationWarning: Creating an ndarray from ragged nested sequences (which is a list-or-tuple of lists-or-tuples-or ndarrays with different lengths or shapes) is deprecated. If you meant to do this, you must specify 'dtype=object' when creating the ndarray.\n",
      "  val = np.asanyarray(val)\n"
     ]
    },
    {
     "name": "stdout",
     "output_type": "stream",
     "text": [
      "Successfully dumped to:        runs/test/gridscan/experiment/laser_0_tau/tau_20/_vacem.npz\n",
      "Parsing config...\n",
      "Initializing SolverBase...\n",
      "Initializing FieldSolver...\n",
      "Initializing laser_1...\n"
     ]
    },
    {
     "name": "stderr",
     "output_type": "stream",
     "text": [
      "/home/wi73yus/packages/vacem-master/vacem/fields/parse_config.py:41: UserWarning: Warning: Unknown option key spectrum_method in section laser_1 will be ignored.\n",
      "  warnings.warn(\"Warning: Unknown option key {key} in section {section} will be ignored.\".format(key=k, section=section._name))\n",
      "/home/wi73yus/packages/vacem-master/vacem/fields/parse_config.py:41: UserWarning: Warning: Unknown option key spectrum_method in section laser_2 will be ignored.\n",
      "  warnings.warn(\"Warning: Unknown option key {key} in section {section} will be ignored.\".format(key=k, section=section._name))\n"
     ]
    },
    {
     "name": "stdout",
     "output_type": "stream",
     "text": [
      "Initializing laser_2...\n",
      "Initializing VacEm...\n",
      "Starting main loop.\n",
      "100%|██████████| 270/270 [00:22<00:00, 11.79it/s]\n",
      "\n",
      "\n",
      "Performance statistics\n",
      "======================\n",
      "\n",
      "Maximum memory usage:            666.3MiB\n",
      "Total wall time:               23.63s\n",
      "Performed iterations:          270\n",
      "Initialization wall time:      0.63s\n",
      "Wall time per iteration:       0.09s\n"
     ]
    },
    {
     "name": "stderr",
     "output_type": "stream",
     "text": [
      "/home/wi73yus/.conda/envs/lbl/lib/python3.9/site-packages/numpy/lib/npyio.py:719: VisibleDeprecationWarning: Creating an ndarray from ragged nested sequences (which is a list-or-tuple of lists-or-tuples-or ndarrays with different lengths or shapes) is deprecated. If you meant to do this, you must specify 'dtype=object' when creating the ndarray.\n",
      "  val = np.asanyarray(val)\n"
     ]
    },
    {
     "name": "stdout",
     "output_type": "stream",
     "text": [
      "Successfully dumped to:        runs/test/gridscan/experiment/laser_0_tau/tau_30/_vacem.npz\n",
      "Parsing config...\n",
      "Initializing SolverBase...\n",
      "Initializing FieldSolver...\n",
      "Initializing laser_1...\n"
     ]
    },
    {
     "name": "stderr",
     "output_type": "stream",
     "text": [
      "/home/wi73yus/packages/vacem-master/vacem/fields/parse_config.py:41: UserWarning: Warning: Unknown option key spectrum_method in section laser_1 will be ignored.\n",
      "  warnings.warn(\"Warning: Unknown option key {key} in section {section} will be ignored.\".format(key=k, section=section._name))\n",
      "/home/wi73yus/packages/vacem-master/vacem/fields/parse_config.py:41: UserWarning: Warning: Unknown option key spectrum_method in section laser_2 will be ignored.\n",
      "  warnings.warn(\"Warning: Unknown option key {key} in section {section} will be ignored.\".format(key=k, section=section._name))\n"
     ]
    },
    {
     "name": "stdout",
     "output_type": "stream",
     "text": [
      "Initializing laser_2...\n",
      "Initializing VacEm...\n",
      "Starting main loop.\n",
      "100%|██████████| 360/360 [00:48<00:00,  7.45it/s]\n",
      "\n",
      "\n",
      "Performance statistics\n",
      "======================\n",
      "\n",
      "Maximum memory usage:            1.0GiB\n",
      "Total wall time:               49.43s\n",
      "Performed iterations:          360\n",
      "Initialization wall time:      0.96s\n",
      "Wall time per iteration:       0.13s\n",
      "Successfully dumped to:        runs/test/gridscan/experiment/laser_0_tau/tau_40/_vacem.npz\n"
     ]
    },
    {
     "name": "stderr",
     "output_type": "stream",
     "text": [
      "/home/wi73yus/.conda/envs/lbl/lib/python3.9/site-packages/numpy/lib/npyio.py:719: VisibleDeprecationWarning: Creating an ndarray from ragged nested sequences (which is a list-or-tuple of lists-or-tuples-or ndarrays with different lengths or shapes) is deprecated. If you meant to do this, you must specify 'dtype=object' when creating the ndarray.\n",
      "  val = np.asanyarray(val)\n"
     ]
    },
    {
     "name": "stdout",
     "output_type": "stream",
     "text": [
      "Grid simulation finished!\n"
     ]
    },
    {
     "data": {
      "text/plain": [
       "0"
      ]
     },
     "execution_count": 4,
     "metadata": {},
     "output_type": "execute_result"
    }
   ],
   "source": [
    "# One can also run gridscan simulation with one script\n",
    "os.system(f'python cluster/gridscan_cluster.py --save_path={save_path}')"
   ]
  },
  {
   "cell_type": "markdown",
   "id": "36dadb5c-22ab-4469-bd45-d92e18ad0bde",
   "metadata": {
    "jp-MarkdownHeadingCollapsed": true,
    "tags": []
   },
   "source": [
    "### Optuna optimization"
   ]
  },
  {
   "cell_type": "code",
   "execution_count": 6,
   "id": "3e0f2efa-38e2-4604-8c12-4f397360ba6f",
   "metadata": {},
   "outputs": [],
   "source": [
    "# Laser pulse parameters\n",
    "laser_params = []\n",
    "for i in range(2):\n",
    "    laser = {\n",
    "        'tau': 25e-15,\n",
    "        'lam': 800e-9,\n",
    "        'w0': 2*800e-9,\n",
    "        'W': 25,\n",
    "        'theta': 180*i,\n",
    "        'phi': 0,\n",
    "        'beta': 0,\n",
    "        'solution': 'gaussian_paraxial'\n",
    "    }\n",
    "    laser['E0'] = float(W_to_E0(laser))\n",
    "    laser_params.append(laser)\n",
    "\n",
    "laser_params = {f'laser_{i}': value for i,value in enumerate(laser_params)}\n",
    "\n",
    "# Simulation box parameters\n",
    "box_factors = {\n",
    "    'long': 8,\n",
    "    'trans': 20,\n",
    "    't': 2\n",
    "}\n",
    "\n",
    "resolutions = {\n",
    "    'spatial': 1,\n",
    "    't': 1\n",
    "}\n",
    "simbox_params = {'box_factors': box_factors,\n",
    "                 'resolutions': resolutions}\n",
    "\n",
    "# Other parameters\n",
    "mode = 'optuna'\n",
    "geometry = 'xz'\n",
    "low_memory_mode = False\n",
    "n_threads = 24\n",
    "pol_idx = 0\n",
    "\n",
    "# Optuna params\n",
    "obj_param = 'N_total'\n",
    "n_trials = 10\n",
    "\n",
    "data = {\n",
    "    '_mode': mode,\n",
    "    'lasers': laser_params,\n",
    "    'simbox_params': simbox_params,\n",
    "    'geometry': geometry,\n",
    "    'low_memory_mode': low_memory_mode,\n",
    "    'n_threads': n_threads,\n",
    "    'pol_idx': pol_idx,\n",
    "    'obj_param': obj_param,\n",
    "    'n_trials': n_trials\n",
    "}\n",
    "\n",
    "# Variable parameters \n",
    "laser_key = 'laser_0'\n",
    "param_key = 'tau'\n",
    "grid = [25,40,1e-15,'uniform']\n",
    "vary_params = {laser_key:\n",
    "    {param_key: grid}\n",
    "}\n",
    "\n",
    "\n",
    "# Save yaml files\n",
    "save_path = 'runs/test/optuna/experiment/'\n",
    "Path(os.path.dirname(save_path)).mkdir(parents=True, exist_ok=True)\n",
    "\n",
    "default_yaml = f'{save_path}default_params.yml'\n",
    "write_yaml(default_yaml, data)\n",
    "\n",
    "vary_yaml = f'{save_path}optuna_params.yml'\n",
    "write_yaml(vary_yaml, vary_params)"
   ]
  },
  {
   "cell_type": "code",
   "execution_count": 7,
   "id": "776fd7a1-e5b6-4ecc-8c6f-3c215d20198c",
   "metadata": {
    "collapsed": true,
    "jupyter": {
     "outputs_hidden": true
    },
    "tags": []
   },
   "outputs": [
    {
     "name": "stderr",
     "output_type": "stream",
     "text": [
      "\u001b[32m[I 2023-09-29 11:24:09,354]\u001b[0m Using an existing study with name 'experiment' instead of creating a new one.\u001b[0m\n",
      "/home/wi73yus/light-by-light/light_by_light/optuna_optimization.py:40: FutureWarning: suggest_uniform has been deprecated in v3.0.0. This feature will be removed in v6.0.0. See https://github.com/optuna/optuna/releases/tag/v3.0.0. Use :func:`~optuna.trial.Trial.suggest_float` instead.\n",
      "  value = trial.suggest_uniform(param_name, param[0], param[1])\n"
     ]
    },
    {
     "name": "stdout",
     "output_type": "stream",
     "text": [
      "Parsing config...\n",
      "Initializing SolverBase...\n",
      "Initializing FieldSolver...\n",
      "Initializing laser_1...\n"
     ]
    },
    {
     "name": "stderr",
     "output_type": "stream",
     "text": [
      "/home/wi73yus/packages/vacem-master/vacem/fields/parse_config.py:41: UserWarning: Warning: Unknown option key spectrum_method in section laser_1 will be ignored.\n",
      "  warnings.warn(\"Warning: Unknown option key {key} in section {section} will be ignored.\".format(key=k, section=section._name))\n",
      "/home/wi73yus/packages/vacem-master/vacem/fields/parse_config.py:41: UserWarning: Warning: Unknown option key spectrum_method in section laser_2 will be ignored.\n",
      "  warnings.warn(\"Warning: Unknown option key {key} in section {section} will be ignored.\".format(key=k, section=section._name))\n"
     ]
    },
    {
     "name": "stdout",
     "output_type": "stream",
     "text": [
      "Initializing laser_2...\n",
      "Initializing VacEm...\n",
      "Starting main loop.\n",
      "100%|██████████| 322/322 [00:31<00:00, 10.30it/s]\n",
      "\n",
      "\n",
      "Performance statistics\n",
      "======================\n",
      "\n",
      "Maximum memory usage:            876.2MiB\n",
      "Total wall time:               37.35s\n",
      "Performed iterations:          322\n",
      "Initialization wall time:      5.96s\n",
      "Wall time per iteration:       0.10s\n",
      "Successfully dumped to:        runs/test/optuna/experiment/trials/trial_001/_vacem.npz\n"
     ]
    },
    {
     "name": "stderr",
     "output_type": "stream",
     "text": [
      "/home/wi73yus/.conda/envs/lbl/lib/python3.9/site-packages/numpy/lib/npyio.py:719: VisibleDeprecationWarning: Creating an ndarray from ragged nested sequences (which is a list-or-tuple of lists-or-tuples-or ndarrays with different lengths or shapes) is deprecated. If you meant to do this, you must specify 'dtype=object' when creating the ndarray.\n",
      "  val = np.asanyarray(val)\n",
      "\u001b[32m[I 2023-09-29 11:24:51,484]\u001b[0m Trial 1 finished with value: 24.965471816195922 and parameters: {'laser_0/tau': 35.72873684285548}. Best is trial 1 with value: 24.965471816195922.\u001b[0m\n"
     ]
    },
    {
     "name": "stdout",
     "output_type": "stream",
     "text": [
      "Parsing config...\n",
      "Initializing SolverBase...\n",
      "Initializing FieldSolver...\n",
      "Initializing laser_1...\n"
     ]
    },
    {
     "name": "stderr",
     "output_type": "stream",
     "text": [
      "/home/wi73yus/packages/vacem-master/vacem/fields/parse_config.py:41: UserWarning: Warning: Unknown option key spectrum_method in section laser_1 will be ignored.\n",
      "  warnings.warn(\"Warning: Unknown option key {key} in section {section} will be ignored.\".format(key=k, section=section._name))\n",
      "/home/wi73yus/packages/vacem-master/vacem/fields/parse_config.py:41: UserWarning: Warning: Unknown option key spectrum_method in section laser_2 will be ignored.\n",
      "  warnings.warn(\"Warning: Unknown option key {key} in section {section} will be ignored.\".format(key=k, section=section._name))\n"
     ]
    },
    {
     "name": "stdout",
     "output_type": "stream",
     "text": [
      "Initializing laser_2...\n",
      "Initializing VacEm...\n",
      "Starting main loop.\n",
      "100%|██████████| 300/300 [00:28<00:00, 10.43it/s]\n",
      "\n",
      "\n",
      "Performance statistics\n",
      "======================\n",
      "\n",
      "Maximum memory usage:            1.8GiB\n",
      "Total wall time:               34.16s\n",
      "Performed iterations:          300\n",
      "Initialization wall time:      5.27s\n",
      "Wall time per iteration:       0.10s\n"
     ]
    },
    {
     "name": "stderr",
     "output_type": "stream",
     "text": [
      "/home/wi73yus/.conda/envs/lbl/lib/python3.9/site-packages/numpy/lib/npyio.py:719: VisibleDeprecationWarning: Creating an ndarray from ragged nested sequences (which is a list-or-tuple of lists-or-tuples-or ndarrays with different lengths or shapes) is deprecated. If you meant to do this, you must specify 'dtype=object' when creating the ndarray.\n",
      "  val = np.asanyarray(val)\n"
     ]
    },
    {
     "name": "stdout",
     "output_type": "stream",
     "text": [
      "Successfully dumped to:        runs/test/optuna/experiment/trials/trial_002/_vacem.npz\n"
     ]
    },
    {
     "name": "stderr",
     "output_type": "stream",
     "text": [
      "\u001b[32m[I 2023-09-29 11:25:29,671]\u001b[0m Trial 2 finished with value: 25.104812845133875 and parameters: {'laser_0/tau': 33.27748805338646}. Best is trial 2 with value: 25.104812845133875.\u001b[0m\n"
     ]
    },
    {
     "name": "stdout",
     "output_type": "stream",
     "text": [
      "Parsing config...\n",
      "Initializing SolverBase...\n",
      "Initializing FieldSolver...\n",
      "Initializing laser_1...\n"
     ]
    },
    {
     "name": "stderr",
     "output_type": "stream",
     "text": [
      "/home/wi73yus/packages/vacem-master/vacem/fields/parse_config.py:41: UserWarning: Warning: Unknown option key spectrum_method in section laser_1 will be ignored.\n",
      "  warnings.warn(\"Warning: Unknown option key {key} in section {section} will be ignored.\".format(key=k, section=section._name))\n",
      "/home/wi73yus/packages/vacem-master/vacem/fields/parse_config.py:41: UserWarning: Warning: Unknown option key spectrum_method in section laser_2 will be ignored.\n",
      "  warnings.warn(\"Warning: Unknown option key {key} in section {section} will be ignored.\".format(key=k, section=section._name))\n"
     ]
    },
    {
     "name": "stdout",
     "output_type": "stream",
     "text": [
      "Initializing laser_2...\n",
      "Initializing VacEm...\n",
      "Starting main loop.\n",
      "100%|██████████| 359/359 [00:44<00:00,  8.03it/s]\n",
      "\n",
      "\n",
      "Performance statistics\n",
      "======================\n",
      "\n",
      "Maximum memory usage:            1.8GiB\n",
      "Total wall time:               49.84s\n",
      "Performed iterations:          359\n",
      "Initialization wall time:      4.97s\n",
      "Wall time per iteration:       0.12s\n"
     ]
    },
    {
     "name": "stderr",
     "output_type": "stream",
     "text": [
      "/home/wi73yus/.conda/envs/lbl/lib/python3.9/site-packages/numpy/lib/npyio.py:719: VisibleDeprecationWarning: Creating an ndarray from ragged nested sequences (which is a list-or-tuple of lists-or-tuples-or ndarrays with different lengths or shapes) is deprecated. If you meant to do this, you must specify 'dtype=object' when creating the ndarray.\n",
      "  val = np.asanyarray(val)\n"
     ]
    },
    {
     "name": "stdout",
     "output_type": "stream",
     "text": [
      "Successfully dumped to:        runs/test/optuna/experiment/trials/trial_003/_vacem.npz\n"
     ]
    },
    {
     "name": "stderr",
     "output_type": "stream",
     "text": [
      "\u001b[32m[I 2023-09-29 11:26:24,871]\u001b[0m Trial 3 finished with value: 24.72796772714238 and parameters: {'laser_0/tau': 39.890023364262646}. Best is trial 2 with value: 25.104812845133875.\u001b[0m\n"
     ]
    },
    {
     "name": "stdout",
     "output_type": "stream",
     "text": [
      "Parsing config...\n",
      "Initializing SolverBase...\n",
      "Initializing FieldSolver...\n",
      "Initializing laser_1...\n"
     ]
    },
    {
     "name": "stderr",
     "output_type": "stream",
     "text": [
      "/home/wi73yus/packages/vacem-master/vacem/fields/parse_config.py:41: UserWarning: Warning: Unknown option key spectrum_method in section laser_1 will be ignored.\n",
      "  warnings.warn(\"Warning: Unknown option key {key} in section {section} will be ignored.\".format(key=k, section=section._name))\n",
      "/home/wi73yus/packages/vacem-master/vacem/fields/parse_config.py:41: UserWarning: Warning: Unknown option key spectrum_method in section laser_2 will be ignored.\n",
      "  warnings.warn(\"Warning: Unknown option key {key} in section {section} will be ignored.\".format(key=k, section=section._name))\n"
     ]
    },
    {
     "name": "stdout",
     "output_type": "stream",
     "text": [
      "Initializing laser_2...\n",
      "Initializing VacEm...\n",
      "Starting main loop.\n",
      "100%|██████████| 334/334 [00:37<00:00,  8.95it/s]\n",
      "\n",
      "\n",
      "Performance statistics\n",
      "======================\n",
      "\n",
      "Maximum memory usage:            2.5GiB\n",
      "Total wall time:               42.38s\n",
      "Performed iterations:          334\n",
      "Initialization wall time:      4.94s\n",
      "Wall time per iteration:       0.11s\n",
      "Successfully dumped to:        runs/test/optuna/experiment/trials/trial_004/_vacem.npz\n"
     ]
    },
    {
     "name": "stderr",
     "output_type": "stream",
     "text": [
      "/home/wi73yus/.conda/envs/lbl/lib/python3.9/site-packages/numpy/lib/npyio.py:719: VisibleDeprecationWarning: Creating an ndarray from ragged nested sequences (which is a list-or-tuple of lists-or-tuples-or ndarrays with different lengths or shapes) is deprecated. If you meant to do this, you must specify 'dtype=object' when creating the ndarray.\n",
      "  val = np.asanyarray(val)\n",
      "\u001b[32m[I 2023-09-29 11:27:11,934]\u001b[0m Trial 4 finished with value: 24.888483800392944 and parameters: {'laser_0/tau': 37.11702190963077}. Best is trial 2 with value: 25.104812845133875.\u001b[0m\n"
     ]
    },
    {
     "name": "stdout",
     "output_type": "stream",
     "text": [
      "Parsing config...\n",
      "Initializing SolverBase...\n",
      "Initializing FieldSolver...\n",
      "Initializing laser_1...\n"
     ]
    },
    {
     "name": "stderr",
     "output_type": "stream",
     "text": [
      "/home/wi73yus/packages/vacem-master/vacem/fields/parse_config.py:41: UserWarning: Warning: Unknown option key spectrum_method in section laser_1 will be ignored.\n",
      "  warnings.warn(\"Warning: Unknown option key {key} in section {section} will be ignored.\".format(key=k, section=section._name))\n",
      "/home/wi73yus/packages/vacem-master/vacem/fields/parse_config.py:41: UserWarning: Warning: Unknown option key spectrum_method in section laser_2 will be ignored.\n",
      "  warnings.warn(\"Warning: Unknown option key {key} in section {section} will be ignored.\".format(key=k, section=section._name))\n"
     ]
    },
    {
     "name": "stdout",
     "output_type": "stream",
     "text": [
      "Initializing laser_2...\n",
      "Initializing VacEm...\n",
      "Starting main loop.\n",
      "100%|██████████| 266/266 [00:22<00:00, 11.92it/s]\n",
      "\n",
      "\n",
      "Performance statistics\n",
      "======================\n",
      "\n",
      "Maximum memory usage:            2.5GiB\n",
      "Total wall time:               26.64s\n",
      "Performed iterations:          266\n",
      "Initialization wall time:      4.22s\n",
      "Wall time per iteration:       0.08s\n",
      "Successfully dumped to:        runs/test/optuna/experiment/trials/trial_005/_vacem.npz\n"
     ]
    },
    {
     "name": "stderr",
     "output_type": "stream",
     "text": [
      "/home/wi73yus/.conda/envs/lbl/lib/python3.9/site-packages/numpy/lib/npyio.py:719: VisibleDeprecationWarning: Creating an ndarray from ragged nested sequences (which is a list-or-tuple of lists-or-tuples-or ndarrays with different lengths or shapes) is deprecated. If you meant to do this, you must specify 'dtype=object' when creating the ndarray.\n",
      "  val = np.asanyarray(val)\n",
      "\u001b[32m[I 2023-09-29 11:27:42,502]\u001b[0m Trial 5 finished with value: 25.25874255877072 and parameters: {'laser_0/tau': 29.54218089227592}. Best is trial 5 with value: 25.25874255877072.\u001b[0m\n"
     ]
    },
    {
     "name": "stdout",
     "output_type": "stream",
     "text": [
      "Parsing config...\n",
      "Initializing SolverBase...\n",
      "Initializing FieldSolver...\n",
      "Initializing laser_1...\n"
     ]
    },
    {
     "name": "stderr",
     "output_type": "stream",
     "text": [
      "/home/wi73yus/packages/vacem-master/vacem/fields/parse_config.py:41: UserWarning: Warning: Unknown option key spectrum_method in section laser_1 will be ignored.\n",
      "  warnings.warn(\"Warning: Unknown option key {key} in section {section} will be ignored.\".format(key=k, section=section._name))\n",
      "/home/wi73yus/packages/vacem-master/vacem/fields/parse_config.py:41: UserWarning: Warning: Unknown option key spectrum_method in section laser_2 will be ignored.\n",
      "  warnings.warn(\"Warning: Unknown option key {key} in section {section} will be ignored.\".format(key=k, section=section._name))\n"
     ]
    },
    {
     "name": "stdout",
     "output_type": "stream",
     "text": [
      "Initializing laser_2...\n",
      "Initializing VacEm...\n",
      "Starting main loop.\n",
      "100%|██████████| 321/321 [00:30<00:00, 10.37it/s]\n",
      "\n",
      "\n",
      "Performance statistics\n",
      "======================\n",
      "\n",
      "Maximum memory usage:            2.5GiB\n",
      "Total wall time:               36.25s\n",
      "Performed iterations:          321\n",
      "Initialization wall time:      5.17s\n",
      "Wall time per iteration:       0.10s\n"
     ]
    },
    {
     "name": "stderr",
     "output_type": "stream",
     "text": [
      "/home/wi73yus/.conda/envs/lbl/lib/python3.9/site-packages/numpy/lib/npyio.py:719: VisibleDeprecationWarning: Creating an ndarray from ragged nested sequences (which is a list-or-tuple of lists-or-tuples-or ndarrays with different lengths or shapes) is deprecated. If you meant to do this, you must specify 'dtype=object' when creating the ndarray.\n",
      "  val = np.asanyarray(val)\n"
     ]
    },
    {
     "name": "stdout",
     "output_type": "stream",
     "text": [
      "Successfully dumped to:        runs/test/optuna/experiment/trials/trial_006/_vacem.npz\n"
     ]
    },
    {
     "name": "stderr",
     "output_type": "stream",
     "text": [
      "\u001b[32m[I 2023-09-29 11:28:23,038]\u001b[0m Trial 6 finished with value: 24.969388569045805 and parameters: {'laser_0/tau': 35.62540929819984}. Best is trial 5 with value: 25.25874255877072.\u001b[0m\n"
     ]
    },
    {
     "name": "stdout",
     "output_type": "stream",
     "text": [
      "Parsing config...\n",
      "Initializing SolverBase...\n",
      "Initializing FieldSolver...\n",
      "Initializing laser_1...\n"
     ]
    },
    {
     "name": "stderr",
     "output_type": "stream",
     "text": [
      "/home/wi73yus/packages/vacem-master/vacem/fields/parse_config.py:41: UserWarning: Warning: Unknown option key spectrum_method in section laser_1 will be ignored.\n",
      "  warnings.warn(\"Warning: Unknown option key {key} in section {section} will be ignored.\".format(key=k, section=section._name))\n",
      "/home/wi73yus/packages/vacem-master/vacem/fields/parse_config.py:41: UserWarning: Warning: Unknown option key spectrum_method in section laser_2 will be ignored.\n",
      "  warnings.warn(\"Warning: Unknown option key {key} in section {section} will be ignored.\".format(key=k, section=section._name))\n"
     ]
    },
    {
     "name": "stdout",
     "output_type": "stream",
     "text": [
      "Initializing laser_2...\n",
      "Initializing VacEm...\n",
      "Starting main loop.\n",
      "100%|██████████| 242/242 [00:16<00:00, 14.75it/s]\n",
      "\n",
      "\n",
      "Performance statistics\n",
      "======================\n",
      "\n",
      "Maximum memory usage:            2.5GiB\n",
      "Total wall time:               20.31s\n",
      "Performed iterations:          242\n",
      "Initialization wall time:      3.82s\n",
      "Wall time per iteration:       0.07s\n",
      "Successfully dumped to:        runs/test/optuna/experiment/trials/trial_007/_vacem.npz\n"
     ]
    },
    {
     "name": "stderr",
     "output_type": "stream",
     "text": [
      "/home/wi73yus/.conda/envs/lbl/lib/python3.9/site-packages/numpy/lib/npyio.py:719: VisibleDeprecationWarning: Creating an ndarray from ragged nested sequences (which is a list-or-tuple of lists-or-tuples-or ndarrays with different lengths or shapes) is deprecated. If you meant to do this, you must specify 'dtype=object' when creating the ndarray.\n",
      "  val = np.asanyarray(val)\n",
      "\u001b[32m[I 2023-09-29 11:28:46,745]\u001b[0m Trial 7 finished with value: 25.42521709425677 and parameters: {'laser_0/tau': 26.805826647133628}. Best is trial 7 with value: 25.42521709425677.\u001b[0m\n"
     ]
    },
    {
     "name": "stdout",
     "output_type": "stream",
     "text": [
      "Parsing config...\n",
      "Initializing SolverBase...\n",
      "Initializing FieldSolver...\n",
      "Initializing laser_1...\n"
     ]
    },
    {
     "name": "stderr",
     "output_type": "stream",
     "text": [
      "/home/wi73yus/packages/vacem-master/vacem/fields/parse_config.py:41: UserWarning: Warning: Unknown option key spectrum_method in section laser_1 will be ignored.\n",
      "  warnings.warn(\"Warning: Unknown option key {key} in section {section} will be ignored.\".format(key=k, section=section._name))\n",
      "/home/wi73yus/packages/vacem-master/vacem/fields/parse_config.py:41: UserWarning: Warning: Unknown option key spectrum_method in section laser_2 will be ignored.\n",
      "  warnings.warn(\"Warning: Unknown option key {key} in section {section} will be ignored.\".format(key=k, section=section._name))\n"
     ]
    },
    {
     "name": "stdout",
     "output_type": "stream",
     "text": [
      "Initializing laser_2...\n",
      "Initializing VacEm...\n",
      "Starting main loop.\n",
      "100%|██████████| 296/296 [00:24<00:00, 12.32it/s]\n",
      "\n",
      "\n",
      "Performance statistics\n",
      "======================\n",
      "\n",
      "Maximum memory usage:            2.5GiB\n",
      "Total wall time:               28.18s\n",
      "Performed iterations:          296\n",
      "Initialization wall time:      4.04s\n",
      "Wall time per iteration:       0.08s\n"
     ]
    },
    {
     "name": "stderr",
     "output_type": "stream",
     "text": [
      "/home/wi73yus/.conda/envs/lbl/lib/python3.9/site-packages/numpy/lib/npyio.py:719: VisibleDeprecationWarning: Creating an ndarray from ragged nested sequences (which is a list-or-tuple of lists-or-tuples-or ndarrays with different lengths or shapes) is deprecated. If you meant to do this, you must specify 'dtype=object' when creating the ndarray.\n",
      "  val = np.asanyarray(val)\n"
     ]
    },
    {
     "name": "stdout",
     "output_type": "stream",
     "text": [
      "Successfully dumped to:        runs/test/optuna/experiment/trials/trial_008/_vacem.npz\n"
     ]
    },
    {
     "name": "stderr",
     "output_type": "stream",
     "text": [
      "\u001b[32m[I 2023-09-29 11:29:19,054]\u001b[0m Trial 8 finished with value: 25.11451760493394 and parameters: {'laser_0/tau': 32.88228903629398}. Best is trial 7 with value: 25.42521709425677.\u001b[0m\n"
     ]
    },
    {
     "name": "stdout",
     "output_type": "stream",
     "text": [
      "Parsing config...\n",
      "Initializing SolverBase...\n",
      "Initializing FieldSolver...\n",
      "Initializing laser_1...\n"
     ]
    },
    {
     "name": "stderr",
     "output_type": "stream",
     "text": [
      "/home/wi73yus/packages/vacem-master/vacem/fields/parse_config.py:41: UserWarning: Warning: Unknown option key spectrum_method in section laser_1 will be ignored.\n",
      "  warnings.warn(\"Warning: Unknown option key {key} in section {section} will be ignored.\".format(key=k, section=section._name))\n",
      "/home/wi73yus/packages/vacem-master/vacem/fields/parse_config.py:41: UserWarning: Warning: Unknown option key spectrum_method in section laser_2 will be ignored.\n",
      "  warnings.warn(\"Warning: Unknown option key {key} in section {section} will be ignored.\".format(key=k, section=section._name))\n"
     ]
    },
    {
     "name": "stdout",
     "output_type": "stream",
     "text": [
      "Initializing laser_2...\n",
      "Initializing VacEm...\n",
      "Starting main loop.\n",
      "100%|██████████| 245/245 [00:18<00:00, 13.05it/s]\n",
      "\n",
      "\n",
      "Performance statistics\n",
      "======================\n",
      "\n",
      "Maximum memory usage:            2.5GiB\n",
      "Total wall time:               22.18s\n",
      "Performed iterations:          245\n",
      "Initialization wall time:      3.32s\n",
      "Wall time per iteration:       0.08s\n",
      "Successfully dumped to:        runs/test/optuna/experiment/trials/trial_009/_vacem.npz\n"
     ]
    },
    {
     "name": "stderr",
     "output_type": "stream",
     "text": [
      "/home/wi73yus/.conda/envs/lbl/lib/python3.9/site-packages/numpy/lib/npyio.py:719: VisibleDeprecationWarning: Creating an ndarray from ragged nested sequences (which is a list-or-tuple of lists-or-tuples-or ndarrays with different lengths or shapes) is deprecated. If you meant to do this, you must specify 'dtype=object' when creating the ndarray.\n",
      "  val = np.asanyarray(val)\n",
      "\u001b[32m[I 2023-09-29 11:29:44,601]\u001b[0m Trial 9 finished with value: 25.392071114775227 and parameters: {'laser_0/tau': 27.187097560501446}. Best is trial 7 with value: 25.42521709425677.\u001b[0m\n"
     ]
    },
    {
     "name": "stdout",
     "output_type": "stream",
     "text": [
      "Parsing config...\n",
      "Initializing SolverBase...\n",
      "Initializing FieldSolver...\n",
      "Initializing laser_1...\n"
     ]
    },
    {
     "name": "stderr",
     "output_type": "stream",
     "text": [
      "/home/wi73yus/packages/vacem-master/vacem/fields/parse_config.py:41: UserWarning: Warning: Unknown option key spectrum_method in section laser_1 will be ignored.\n",
      "  warnings.warn(\"Warning: Unknown option key {key} in section {section} will be ignored.\".format(key=k, section=section._name))\n",
      "/home/wi73yus/packages/vacem-master/vacem/fields/parse_config.py:41: UserWarning: Warning: Unknown option key spectrum_method in section laser_2 will be ignored.\n",
      "  warnings.warn(\"Warning: Unknown option key {key} in section {section} will be ignored.\".format(key=k, section=section._name))\n"
     ]
    },
    {
     "name": "stdout",
     "output_type": "stream",
     "text": [
      "Initializing laser_2...\n",
      "Initializing VacEm...\n",
      "Starting main loop.\n",
      "100%|██████████| 246/246 [00:18<00:00, 13.52it/s]\n",
      "\n",
      "\n",
      "Performance statistics\n",
      "======================\n",
      "\n",
      "Maximum memory usage:            2.5GiB\n",
      "Total wall time:               21.61s\n",
      "Performed iterations:          246\n",
      "Initialization wall time:      3.32s\n",
      "Wall time per iteration:       0.07s\n",
      "Successfully dumped to:        runs/test/optuna/experiment/trials/trial_010/_vacem.npz\n"
     ]
    },
    {
     "name": "stderr",
     "output_type": "stream",
     "text": [
      "/home/wi73yus/.conda/envs/lbl/lib/python3.9/site-packages/numpy/lib/npyio.py:719: VisibleDeprecationWarning: Creating an ndarray from ragged nested sequences (which is a list-or-tuple of lists-or-tuples-or ndarrays with different lengths or shapes) is deprecated. If you meant to do this, you must specify 'dtype=object' when creating the ndarray.\n",
      "  val = np.asanyarray(val)\n",
      "\u001b[32m[I 2023-09-29 11:30:09,656]\u001b[0m Trial 10 finished with value: 25.367572502604002 and parameters: {'laser_0/tau': 27.273306355218544}. Best is trial 7 with value: 25.42521709425677.\u001b[0m\n"
     ]
    },
    {
     "name": "stdout",
     "output_type": "stream",
     "text": [
      "Optuna optimization finished!\n"
     ]
    }
   ],
   "source": [
    "run_optuna_optimization(default_yaml, vary_yaml, save_path)"
   ]
  },
  {
   "cell_type": "code",
   "execution_count": 12,
   "id": "4b0a4886-727b-42d8-af09-6b55bf347719",
   "metadata": {},
   "outputs": [
    {
     "name": "stderr",
     "output_type": "stream",
     "text": [
      "\u001b[32m[I 2023-09-29 11:40:43,483]\u001b[0m Using an existing study with name 'experiment' instead of creating a new one.\u001b[0m\n"
     ]
    }
   ],
   "source": [
    "study_name = save_path.split('/')[-2]\n",
    "storage_name = f'sqlite:///{save_path}/study.db'\n",
    "\n",
    "# Create optuna study\n",
    "study = optuna.create_study(direction=\"maximize\", study_name=study_name,\n",
    "                            storage=storage_name, load_if_exists=True)"
   ]
  },
  {
   "cell_type": "code",
   "execution_count": 17,
   "id": "24f1d42b-3b4b-4a68-9f54-e7b949db65dc",
   "metadata": {},
   "outputs": [],
   "source": [
    "trials = [trial for trial in study.trials if trial.values is not None]\n",
    "n = len(trials)\n",
    "params = {param: np.empty(n) for param in trials[0].params}\n",
    "user_attrs = {param: np.empty(n) for param in trials[0].user_attrs}\n",
    "\n",
    "for i,trial in enumerate(trials):\n",
    "    for key in params.keys():\n",
    "        params[key][i] = trial.params[key]\n",
    "    for key in user_attrs.keys():\n",
    "        user_attrs[key][i] = trial.user_attrs[key]"
   ]
  },
  {
   "cell_type": "code",
   "execution_count": 20,
   "id": "6b809637-ba4a-4957-9594-7fc5a9f9beff",
   "metadata": {},
   "outputs": [
    {
     "data": {
      "image/png": "[encoded data removed]",
      "text/plain": [
       "<Figure size 640x480 with 1 Axes>"
      ]
     },
     "metadata": {},
     "output_type": "display_data"
    }
   ],
   "source": [
    "plt.figure()\n",
    "plt.scatter(params['laser_0/tau'], user_attrs['N_total'])\n",
    "plt.show()"
   ]
  },
  {
   "cell_type": "code",
   "execution_count": null,
   "id": "9a370915-75a5-40b9-8aba-0b278da99e72",
   "metadata": {},
   "outputs": [],
   "source": []
  }
 ],
 "metadata": {
  "kernelspec": {
   "display_name": "Python 3 (ipykernel)",
   "language": "python",
   "name": "python3"
  },
  "language_info": {
   "codemirror_mode": {
    "name": "ipython",
    "version": 3
   },
   "file_extension": ".py",
   "mimetype": "text/x-python",
   "name": "python",
   "nbconvert_exporter": "python",
   "pygments_lexer": "ipython3",
   "version": "3.9.15"
  }
 },
 "nbformat": 4,
 "nbformat_minor": 5
}
