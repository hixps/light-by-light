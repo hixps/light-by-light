{
 "cells": [
  {
   "cell_type": "markdown",
   "id": "fc1dfa1f-ad87-47a9-929e-2df3e0ed7a94",
   "metadata": {},
   "source": [
    "Usage notebook"
   ]
  },
  {
   "cell_type": "code",
   "execution_count": 1,
   "id": "4a581011-af8a-4b6b-8406-2d54f0978b11",
   "metadata": {},
   "outputs": [
    {
     "name": "stderr",
     "output_type": "stream",
     "text": [
      "/home/wi73yus/.conda/envs/lbl/lib/python3.9/site-packages/pyfftw/interfaces/__init__.py:268: DeprecationWarning: distutils Version classes are deprecated. Use packaging.version instead.\n",
      "  has_scipy_fft = _LooseVersion(scipy.__version__) >= _LooseVersion('1.4.0')\n",
      "/home/wi73yus/.conda/envs/lbl/lib/python3.9/site-packages/optuna/storages/_rdb/models.py:40: MovedIn20Warning: Deprecated API features detected! These feature(s) are not compatible with SQLAlchemy 2.0. To prevent incompatible upgrades prior to updating applications, ensure requirements files are pinned to \"sqlalchemy<2.0\". Set environment variable SQLALCHEMY_WARN_20=1 to show all deprecation warnings.  Set environment variable SQLALCHEMY_SILENCE_UBER_WARNING=1 to silence this message. (Background on SQLAlchemy 2.0 at: https://sqlalche.me/e/b8d9)\n",
      "  BaseModel: Any = declarative_base()\n"
     ]
    }
   ],
   "source": [
    "import numpy as np\n",
    "import matplotlib.pyplot as plt\n",
    "from pathlib import Path\n",
    "import os\n",
    "\n",
    "from scripts.vacem_ini import W_to_E0\n",
    "from scripts.vacem_simulation import run_gridscan\n",
    "from scripts.optuna_optimization import run_optuna_optimization\n",
    "from scripts.utils import write_yaml"
   ]
  },
  {
   "cell_type": "markdown",
   "id": "3aa09f78-b8bc-4364-916f-da2ee36aab98",
   "metadata": {},
   "source": [
    "### Gridscan simulation"
   ]
  },
  {
   "cell_type": "code",
   "execution_count": 2,
   "id": "a11db23d-1701-41a0-806e-4262013c824d",
   "metadata": {},
   "outputs": [],
   "source": [
    "# Laser pulse parameters\n",
    "laser_params = []\n",
    "for i in range(2):\n",
    "    laser = {\n",
    "        'tau': 25e-15,\n",
    "        'lam': 800e-9,\n",
    "        'w0': 2*800e-9,\n",
    "        'W': 25,\n",
    "        'theta': 180*i,\n",
    "        'phi': 0,\n",
    "        'beta': 0,\n",
    "        'solution': 'gaussian_paraxial'\n",
    "    }\n",
    "    laser['E0'] = float(W_to_E0(laser))\n",
    "    laser_params.append(laser)\n",
    "\n",
    "laser_params = {f'laser_{i}': value for i,value in enumerate(laser_params)}\n",
    "\n",
    "# Simulation box parameters\n",
    "box_factors = {\n",
    "    'long': 8,\n",
    "    'trans': 20,\n",
    "    't': 2\n",
    "}\n",
    "\n",
    "resolutions = {\n",
    "    'spatial': 1,\n",
    "    't': 1\n",
    "}\n",
    "simbox_params = {'box_factors': box_factors,\n",
    "                 'resolutions': resolutions}\n",
    "\n",
    "# Other parameters\n",
    "mode = 'gridscan'\n",
    "geometry = 'xz'\n",
    "low_memory_mode = False\n",
    "n_threads = 12\n",
    "pol_idx = 0\n",
    "\n",
    "data = {\n",
    "    '_mode': mode,\n",
    "    'lasers': laser_params,\n",
    "    'simbox_params': simbox_params,\n",
    "    'geometry': geometry,\n",
    "    'low_memory_mode': low_memory_mode,\n",
    "    'n_threads': n_threads,\n",
    "    'pol_idx': pol_idx\n",
    "}\n",
    "\n",
    "# Variable parameters \n",
    "laser_key = 'laser_0'\n",
    "param_key = 'tau'\n",
    "grid = [20,40,3,1e-15]\n",
    "vary_params = {\n",
    "    'lasers': {laser_key: {param_key: grid}}\n",
    "}\n",
    "\n",
    "# Save yaml files\n",
    "save_path = 'runs/test/gridscan/experiment/'\n",
    "Path(os.path.dirname(save_path)).mkdir(parents=True, exist_ok=True)\n",
    "\n",
    "default_yaml = f'{save_path}default_params.yml'\n",
    "write_yaml(default_yaml, data)\n",
    "\n",
    "vary_yaml = f'{save_path}vary_params.yml'\n",
    "write_yaml(vary_yaml, vary_params)"
   ]
  },
  {
   "cell_type": "code",
   "execution_count": 3,
   "id": "41f2e945-400c-40e3-a8ef-5cb442790197",
   "metadata": {
    "collapsed": true,
    "jupyter": {
     "outputs_hidden": true
    },
    "tags": []
   },
   "outputs": [
    {
     "name": "stdout",
     "output_type": "stream",
     "text": [
      "Parsing config...\n",
      "Initializing SolverBase...\n",
      "Initializing FieldSolver...\n",
      "Initializing laser_1...\n"
     ]
    },
    {
     "name": "stderr",
     "output_type": "stream",
     "text": [
      "/home/wi73yus/packages/vacem-master/vacem/fields/parse_config.py:41: UserWarning: Warning: Unknown option key spectrum_method in section laser_1 will be ignored.\n",
      "  warnings.warn(\"Warning: Unknown option key {key} in section {section} will be ignored.\".format(key=k, section=section._name))\n",
      "/home/wi73yus/packages/vacem-master/vacem/fields/parse_config.py:41: UserWarning: Warning: Unknown option key spectrum_method in section laser_2 will be ignored.\n",
      "  warnings.warn(\"Warning: Unknown option key {key} in section {section} will be ignored.\".format(key=k, section=section._name))\n"
     ]
    },
    {
     "name": "stdout",
     "output_type": "stream",
     "text": [
      "Initializing laser_2...\n",
      "Initializing VacEm...\n",
      "Starting main loop.\n",
      "100%|██████████| 225/225 [00:13<00:00, 16.18it/s]\n",
      "\n",
      "\n",
      "Performance statistics\n",
      "======================\n",
      "\n",
      "Maximum memory usage:            482.4MiB\n",
      "Total wall time:               14.45s\n",
      "Performed iterations:          225\n",
      "Initialization wall time:      0.47s\n",
      "Wall time per iteration:       0.06s\n",
      "Successfully dumped to:        runs/test/gridscan/experiment/laser_0_tau/tau_20/_vacem.npz\n"
     ]
    },
    {
     "name": "stderr",
     "output_type": "stream",
     "text": [
      "/home/wi73yus/.conda/envs/lbl/lib/python3.9/site-packages/numpy/lib/npyio.py:719: VisibleDeprecationWarning: Creating an ndarray from ragged nested sequences (which is a list-or-tuple of lists-or-tuples-or ndarrays with different lengths or shapes) is deprecated. If you meant to do this, you must specify 'dtype=object' when creating the ndarray.\n",
      "  val = np.asanyarray(val)\n"
     ]
    },
    {
     "name": "stdout",
     "output_type": "stream",
     "text": [
      "Parsing config...\n",
      "Initializing SolverBase...\n",
      "Initializing FieldSolver...\n",
      "Initializing laser_1...\n"
     ]
    },
    {
     "name": "stderr",
     "output_type": "stream",
     "text": [
      "/home/wi73yus/packages/vacem-master/vacem/fields/parse_config.py:41: UserWarning: Warning: Unknown option key spectrum_method in section laser_1 will be ignored.\n",
      "  warnings.warn(\"Warning: Unknown option key {key} in section {section} will be ignored.\".format(key=k, section=section._name))\n",
      "/home/wi73yus/packages/vacem-master/vacem/fields/parse_config.py:41: UserWarning: Warning: Unknown option key spectrum_method in section laser_2 will be ignored.\n",
      "  warnings.warn(\"Warning: Unknown option key {key} in section {section} will be ignored.\".format(key=k, section=section._name))\n"
     ]
    },
    {
     "name": "stdout",
     "output_type": "stream",
     "text": [
      "Initializing laser_2...\n",
      "Initializing VacEm...\n",
      "Starting main loop.\n",
      "100%|██████████| 270/270 [00:23<00:00, 11.47it/s]\n",
      "\n",
      "\n",
      "Performance statistics\n",
      "======================\n",
      "\n",
      "Maximum memory usage:            728.2MiB\n",
      "Total wall time:               24.24s\n",
      "Performed iterations:          270\n",
      "Initialization wall time:      0.60s\n",
      "Wall time per iteration:       0.09s\n",
      "Successfully dumped to:        runs/test/gridscan/experiment/laser_0_tau/tau_30/_vacem.npz\n"
     ]
    },
    {
     "name": "stderr",
     "output_type": "stream",
     "text": [
      "/home/wi73yus/.conda/envs/lbl/lib/python3.9/site-packages/numpy/lib/npyio.py:719: VisibleDeprecationWarning: Creating an ndarray from ragged nested sequences (which is a list-or-tuple of lists-or-tuples-or ndarrays with different lengths or shapes) is deprecated. If you meant to do this, you must specify 'dtype=object' when creating the ndarray.\n",
      "  val = np.asanyarray(val)\n"
     ]
    },
    {
     "name": "stdout",
     "output_type": "stream",
     "text": [
      "Parsing config...\n",
      "Initializing SolverBase...\n",
      "Initializing FieldSolver...\n",
      "Initializing laser_1...\n"
     ]
    },
    {
     "name": "stderr",
     "output_type": "stream",
     "text": [
      "/home/wi73yus/packages/vacem-master/vacem/fields/parse_config.py:41: UserWarning: Warning: Unknown option key spectrum_method in section laser_1 will be ignored.\n",
      "  warnings.warn(\"Warning: Unknown option key {key} in section {section} will be ignored.\".format(key=k, section=section._name))\n",
      "/home/wi73yus/packages/vacem-master/vacem/fields/parse_config.py:41: UserWarning: Warning: Unknown option key spectrum_method in section laser_2 will be ignored.\n",
      "  warnings.warn(\"Warning: Unknown option key {key} in section {section} will be ignored.\".format(key=k, section=section._name))\n"
     ]
    },
    {
     "name": "stdout",
     "output_type": "stream",
     "text": [
      "Initializing laser_2...\n",
      "Initializing VacEm...\n",
      "Starting main loop.\n",
      "100%|██████████| 360/360 [00:48<00:00,  7.49it/s]\n",
      "\n",
      "\n",
      "Performance statistics\n",
      "======================\n",
      "\n",
      "Maximum memory usage:            1.1GiB\n",
      "Total wall time:               49.24s\n",
      "Performed iterations:          360\n",
      "Initialization wall time:      0.98s\n",
      "Wall time per iteration:       0.13s\n",
      "Successfully dumped to:        runs/test/gridscan/experiment/laser_0_tau/tau_40/_vacem.npz\n"
     ]
    },
    {
     "name": "stderr",
     "output_type": "stream",
     "text": [
      "/home/wi73yus/.conda/envs/lbl/lib/python3.9/site-packages/numpy/lib/npyio.py:719: VisibleDeprecationWarning: Creating an ndarray from ragged nested sequences (which is a list-or-tuple of lists-or-tuples-or ndarrays with different lengths or shapes) is deprecated. If you meant to do this, you must specify 'dtype=object' when creating the ndarray.\n",
      "  val = np.asanyarray(val)\n"
     ]
    },
    {
     "name": "stdout",
     "output_type": "stream",
     "text": [
      "Grid simulation finished!\n"
     ]
    }
   ],
   "source": [
    "run_gridscan(default_yaml, vary_yaml, save_path)"
   ]
  },
  {
   "cell_type": "code",
   "execution_count": 7,
   "id": "488f3035-319e-4b88-8e46-da92f9927810",
   "metadata": {},
   "outputs": [],
   "source": [
    "keys = ['N_total', 'Nperp_total', 'N_disc', 'Nperp_disc']\n",
    "results = {key: [] for key in keys}\n",
    "tau_grid = np.linspace(grid[0], grid[1], grid[2], endpoint=True, dtype=int)\n",
    "for tau in tau_grid:\n",
    "    path_loc = f'{save_path}{laser_key}_{param_key}/{param_key}_{tau}/postprocess_data.npz' \n",
    "    result_loc = np.load(path_loc)\n",
    "    for key in keys:\n",
    "        results[key].append(result_loc[key])"
   ]
  },
  {
   "cell_type": "code",
   "execution_count": 10,
   "id": "f6f81979-acc7-4a79-95ef-de5be635973b",
   "metadata": {},
   "outputs": [
    {
     "data": {
      "image/png": "[encoded data removed]",
      "text/plain": [
       "<Figure size 640x480 with 1 Axes>"
      ]
     },
     "metadata": {},
     "output_type": "display_data"
    }
   ],
   "source": [
    "plt.figure()\n",
    "plt.plot(tau_grid, results['N_total'], '.--', ms=15)\n",
    "plt.show()"
   ]
  },
  {
   "cell_type": "code",
   "execution_count": 3,
   "id": "c3bdd3be-8e86-4a26-a647-1fdfe179efa3",
   "metadata": {},
   "outputs": [
    {
     "name": "stderr",
     "output_type": "stream",
     "text": [
      "Traceback (most recent call last):\n",
      "  File \"/home/wi73yus/light-by-light/scripts/cluster/gridscan_cluster.py\", line 19, in <module>\n",
      "    from scripts.vacem_simulation import run_gridscan\n",
      "ModuleNotFoundError: No module named 'scripts.vacem_simulation'\n"
     ]
    },
    {
     "data": {
      "text/plain": [
       "256"
      ]
     },
     "execution_count": 3,
     "metadata": {},
     "output_type": "execute_result"
    }
   ],
   "source": [
    "os.system(f'python scripts/cluster/gridscan_cluster.py --save_path={save_path}')"
   ]
  },
  {
   "cell_type": "markdown",
   "id": "36dadb5c-22ab-4469-bd45-d92e18ad0bde",
   "metadata": {},
   "source": [
    "### Optuna optimization"
   ]
  },
  {
   "cell_type": "code",
   "execution_count": null,
   "id": "3e0f2efa-38e2-4604-8c12-4f397360ba6f",
   "metadata": {},
   "outputs": [],
   "source": []
  }
 ],
 "metadata": {
  "kernelspec": {
   "display_name": "Python 3 (ipykernel)",
   "language": "python",
   "name": "python3"
  },
  "language_info": {
   "codemirror_mode": {
    "name": "ipython",
    "version": 3
   },
   "file_extension": ".py",
   "mimetype": "text/x-python",
   "name": "python",
   "nbconvert_exporter": "python",
   "pygments_lexer": "ipython3",
   "version": "3.9.15"
  }
 },
 "nbformat": 4,
 "nbformat_minor": 5
}
