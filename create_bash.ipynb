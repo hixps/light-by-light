{
 "cells": [
  {
   "cell_type": "markdown",
   "id": "aeaf34a0-d107-486d-bf67-5d2dc7ffee14",
   "metadata": {},
   "source": [
    "Create bash scripts"
   ]
  },
  {
   "cell_type": "code",
   "execution_count": 3,
   "id": "2f145c4a-8458-4ca9-a8e0-e7684ba65f59",
   "metadata": {},
   "outputs": [
    {
     "name": "stderr",
     "output_type": "stream",
     "text": [
      "/home/wi73yus/.conda/envs/lbl/lib/python3.9/site-packages/pyfftw/interfaces/__init__.py:268: DeprecationWarning: distutils Version classes are deprecated. Use packaging.version instead.\n",
      "  has_scipy_fft = _LooseVersion(scipy.__version__) >= _LooseVersion('1.4.0')\n"
     ]
    }
   ],
   "source": [
    "import os\n",
    "from pathlib import Path\n",
    "import numpy as np\n",
    "from copy import deepcopy\n",
    "\n",
    "from light_by_light.vacem_ini import W_to_E0, create_ini_file\n",
    "from light_by_light.utils import write_yaml, read_yaml"
   ]
  },
  {
   "cell_type": "code",
   "execution_count": 4,
   "id": "07abb96d-480a-44d2-a21e-ba6578c5616a",
   "metadata": {},
   "outputs": [],
   "source": [
    "template = '''#!/bin/bash\n",
    "#SBATCH --job-name={jobname}\n",
    "#SBATCH --partition=hij-gpu\n",
    "#SBATCH --cpus-per-task={n_cpus}\n",
    "#SBATCH --time=1-00:00:00\n",
    "#SBATCH --mem=250GB\n",
    "#SBATCH --output=/work/wi73yus/bash_output/{jobname}.%j.log\n",
    "#SBATCH --error=/work/wi73yus/bash_output/{jobname}.%j.err\n",
    "\n",
    "source ~/.bashrc  #  not automatically read by slurm\n",
    "conda activate lbl  # activate here the anaconda environment you want to use\n",
    "\n",
    "python {script_path} {script_kwargs}\n",
    "'''\n",
    "\n",
    "home_path = '/home/wi73yus/light-by-light'\n",
    "work_path = '/work/wi73yus/light-by-light-experiments'"
   ]
  },
  {
   "cell_type": "markdown",
   "id": "fc115665-294b-46ea-9403-6102bee6c76c",
   "metadata": {
    "jp-MarkdownHeadingCollapsed": true,
    "tags": []
   },
   "source": [
    "### Bash single simulation"
   ]
  },
  {
   "cell_type": "code",
   "execution_count": 20,
   "id": "21087704-e969-4066-b874-7d063d5e0536",
   "metadata": {},
   "outputs": [],
   "source": [
    "# Laser pulse parameters\n",
    "theta = 180\n",
    "beta = 90\n",
    "\n",
    "# 1st laser\n",
    "laser_params = []\n",
    "laser = {\n",
    "    'tau': 25e-15,\n",
    "    'lam': 800e-9,\n",
    "    'w0': 1*800e-9,\n",
    "    'W': 0,\n",
    "    'theta': 0,\n",
    "    'phi': 0,\n",
    "    'beta': 0,\n",
    "    'solution': 'gaussian_paraxial'\n",
    "}\n",
    "laser['E0'] = float(W_to_E0(laser))\n",
    "laser_params.append(laser)\n",
    "\n",
    "# 2nd laser\n",
    "w0 = 8\n",
    "laser = {\n",
    "    'tau': 25e-15,\n",
    "    'lam': 800e-9,\n",
    "    'w0': w0*800e-9,\n",
    "    'W': 25,\n",
    "    'theta': theta,\n",
    "    'phi': 0,\n",
    "    'beta': beta,\n",
    "    'solution': 'gaussian_paraxial'\n",
    "}\n",
    "laser['E0'] = float(W_to_E0(laser))\n",
    "laser_params.append(laser)\n",
    "\n",
    "laser_params = {f'laser_{i}': value for i,value in enumerate(laser_params)}\n",
    "\n",
    "# Simulation box parameters\n",
    "box_factors = {\n",
    "    'long': 8,\n",
    "    'trans': 20,\n",
    "    't': 2\n",
    "}\n",
    "\n",
    "resolutions = {\n",
    "    'spatial': 2,\n",
    "    't': 1\n",
    "}\n",
    "simbox_params = {'box_factors': box_factors,\n",
    "                 'resolutions': resolutions}\n",
    "\n",
    "# Other parameters\n",
    "mode = 'simulation'\n",
    "geometry = 'z'\n",
    "low_memory_mode = False\n",
    "n_threads = 24\n",
    "pol_idx = 0\n",
    "\n",
    "# Save yaml file\n",
    "data = {\n",
    "    '_mode': mode,\n",
    "    'lasers': laser_params,\n",
    "    'simbox_params': simbox_params,\n",
    "    'geometry': geometry,\n",
    "    'low_memory_mode': low_memory_mode,\n",
    "    'n_threads': n_threads,\n",
    "    'pol_idx': pol_idx\n",
    "}\n",
    "\n",
    "folder = f'CCS'\n",
    "jobname = f'theta_{theta}_zgeometry_w0_{w0}'\n",
    "save_path = f'{work_path}/runs/{mode}/{folder}/{jobname}/'\n",
    "Path(os.path.dirname(save_path)).mkdir(parents=True, exist_ok=True)\n",
    "\n",
    "default_yaml = f'{save_path}default_params.yml'\n",
    "write_yaml(default_yaml, data)\n",
    "\n",
    "# Create bash script\n",
    "script_path = f'{home_path}/cluster/simulation_cluster.py'\n",
    "script_kwargs = f'--save_path={save_path}'\n",
    "\n",
    "bash = template.format(jobname=jobname,\n",
    "                       n_cpus=n_threads,\n",
    "                       script_path=script_path,\n",
    "                       script_kwargs=script_kwargs)\n",
    "\n",
    "bash_path = f'{save_path}job.slurm'\n",
    "with open(bash_path, 'w') as f:\n",
    "    f.write(bash)"
   ]
  },
  {
   "cell_type": "code",
   "execution_count": 21,
   "id": "2f93ab85-9ee7-4093-93f9-8f023ae674bd",
   "metadata": {},
   "outputs": [],
   "source": [
    "default_name = 'default_params.yml'\n",
    "\n",
    "default_yaml = f'{save_path}{default_name}'\n",
    "yaml_data = read_yaml(default_yaml)\n",
    "params = {}\n",
    "lasers = yaml_data['lasers']\n",
    "params['laser_params'] = [lasers[f'laser_{i}'] for i in range(len(lasers))]\n",
    "params['save_path'] = save_path\n",
    "keys = ['simbox_params', 'geometry', 'low_memory_mode']\n",
    "for key in keys:\n",
    "    params[key] = yaml_data[key]\n",
    "\n",
    "create_ini_file(**params)"
   ]
  },
  {
   "cell_type": "code",
   "execution_count": 22,
   "id": "576e1085-9d69-4b63-b7e0-ca330c5e60ae",
   "metadata": {},
   "outputs": [
    {
     "name": "stdout",
     "output_type": "stream",
     "text": [
      "Submitted batch job 604291\n"
     ]
    },
    {
     "data": {
      "text/plain": [
       "0"
      ]
     },
     "execution_count": 22,
     "metadata": {},
     "output_type": "execute_result"
    }
   ],
   "source": [
    "os.system(f'sbatch {bash_path}')"
   ]
  },
  {
   "cell_type": "markdown",
   "id": "e024d457-c51c-41bc-883d-aca1bc41fe91",
   "metadata": {
    "jp-MarkdownHeadingCollapsed": true,
    "tags": []
   },
   "source": [
    "### Bash script for 1d grid scan"
   ]
  },
  {
   "cell_type": "code",
   "execution_count": 4,
   "id": "5dc2fa95-9e17-4958-afab-d73c9f74f811",
   "metadata": {},
   "outputs": [],
   "source": [
    "# Laser pulse parameters\n",
    "theta = 160\n",
    "beta = 90\n",
    "\n",
    "# 1st laser\n",
    "laser_params = []\n",
    "laser = {\n",
    "    'tau': 25e-15,\n",
    "    'lam': 800e-9,\n",
    "    'w0': 1*800e-9,\n",
    "    'W': 25,\n",
    "    'theta': 0,\n",
    "    'phi': 0,\n",
    "    'beta': 0,\n",
    "    'solution': 'gaussian_paraxial'\n",
    "}\n",
    "laser['E0'] = float(W_to_E0(laser))\n",
    "laser_params.append(laser)\n",
    "\n",
    "# 2nd laser\n",
    "laser = {\n",
    "    'tau': 25e-15,\n",
    "    'lam': 800e-9,\n",
    "    'w0': 1*800e-9,\n",
    "    'W': 25,\n",
    "    'theta': theta,\n",
    "    'phi': 0,\n",
    "    'beta': beta,\n",
    "    'solution': 'gaussian_paraxial'\n",
    "}\n",
    "laser['E0'] = float(W_to_E0(laser))\n",
    "laser_params.append(laser)\n",
    "\n",
    "laser_params = {f'laser_{i}': value for i,value in enumerate(laser_params)}\n",
    "\n",
    "# Simulation box parameters\n",
    "box_factors = {\n",
    "    'long': 8,\n",
    "    'trans': 20,\n",
    "    't': 2\n",
    "}\n",
    "\n",
    "resolutions = {\n",
    "    'spatial': 2,\n",
    "    't': 1\n",
    "}\n",
    "simbox_params = {'box_factors': box_factors,\n",
    "                 'resolutions': resolutions}\n",
    "\n",
    "# Other parameters\n",
    "mode = 'gridscan'\n",
    "geometry = 'xz'\n",
    "low_memory_mode = False\n",
    "n_threads = 24\n",
    "pol_idx = 0\n",
    "\n",
    "# Variable parameters \n",
    "laser_key = 'laser_1'\n",
    "param_key = 'w0'\n",
    "grid = [1,9,9,800e-9]\n",
    "vary_params = {\n",
    "    'lasers': {laser_key: {param_key: grid}}\n",
    "}\n",
    "\n",
    "# Save yaml file\n",
    "data = {\n",
    "    '_mode': mode,\n",
    "    'lasers': laser_params,\n",
    "    'simbox_params': simbox_params,\n",
    "    'geometry': geometry,\n",
    "    'low_memory_mode': low_memory_mode,\n",
    "    'n_threads': n_threads,\n",
    "    'pol_idx': pol_idx\n",
    "}\n",
    "\n",
    "folder = f'CCS'\n",
    "jobname = f'{param_key}_theta_{theta}_{geometry}'\n",
    "save_path = f'{work_path}/runs/{mode}/{folder}/{jobname}/'\n",
    "Path(os.path.dirname(save_path)).mkdir(parents=True, exist_ok=True)\n",
    "\n",
    "default_yaml = f'{save_path}default_params.yml'\n",
    "write_yaml(default_yaml, data)\n",
    "\n",
    "vary_yaml = f'{save_path}vary_params.yml'\n",
    "write_yaml(vary_yaml, vary_params)\n",
    "\n",
    "# Create bash script\n",
    "script_path = f'{home_path}/cluster/gridscan_cluster.py'\n",
    "script_kwargs = f'--save_path={save_path}'\n",
    "\n",
    "bash = template.format(jobname=jobname,\n",
    "                       n_cpus=n_threads,\n",
    "                       script_path=script_path,\n",
    "                       script_kwargs=script_kwargs)\n",
    "\n",
    "bash_path = f'{save_path}job.slurm'\n",
    "with open(bash_path, 'w') as f:\n",
    "    f.write(bash)"
   ]
  },
  {
   "cell_type": "code",
   "execution_count": 5,
   "id": "8ea13073-02ac-4b96-b268-a138c8995eab",
   "metadata": {},
   "outputs": [
    {
     "name": "stdout",
     "output_type": "stream",
     "text": [
      "Submitted batch job 633242\n"
     ]
    },
    {
     "data": {
      "text/plain": [
       "0"
      ]
     },
     "execution_count": 5,
     "metadata": {},
     "output_type": "execute_result"
    }
   ],
   "source": [
    "os.system(f'sbatch {bash_path}')"
   ]
  },
  {
   "cell_type": "markdown",
   "id": "3267f787-08a9-4ebf-a362-e889f936e845",
   "metadata": {
    "jp-MarkdownHeadingCollapsed": true,
    "tags": []
   },
   "source": [
    "### Bash script for optuna optimization"
   ]
  },
  {
   "cell_type": "code",
   "execution_count": 3,
   "id": "86e74174-a270-4d7d-98e6-67dfe894af0e",
   "metadata": {},
   "outputs": [],
   "source": [
    "# Laser pulse parameters\n",
    "theta = 180\n",
    "beta = 90\n",
    "\n",
    "# 1st laser\n",
    "laser_params = []\n",
    "laser = {\n",
    "    'tau': 25e-15,\n",
    "    'lam': 800e-9,\n",
    "    'w0': 4*800e-9,\n",
    "    'W': 25,\n",
    "    'theta': 0,\n",
    "    'phi': 0,\n",
    "    'beta': 0,\n",
    "    'solution': 'gaussian_paraxial'\n",
    "}\n",
    "laser['E0'] = float(W_to_E0(laser))\n",
    "laser_params.append(laser)\n",
    "\n",
    "# 2nd laser\n",
    "laser = {\n",
    "    'tau': 25e-15,\n",
    "    'lam': 800e-9,\n",
    "    'w0': 1*800e-9,\n",
    "    'W': 25,\n",
    "    'theta': theta,\n",
    "    'phi': 0,\n",
    "    'beta': beta,\n",
    "    'solution': 'gaussian_paraxial'\n",
    "}\n",
    "laser['E0'] = float(W_to_E0(laser))\n",
    "laser_params.append(laser)\n",
    "\n",
    "laser_params = {f'laser_{i}': value for i,value in enumerate(laser_params)}\n",
    "\n",
    "# Simulation box parameters\n",
    "box_factors = {\n",
    "    'long': 8,\n",
    "    'trans': 20,\n",
    "    't': 2\n",
    "}\n",
    "\n",
    "resolutions = {\n",
    "    'spatial': 2,\n",
    "    't': 1\n",
    "}\n",
    "simbox_params = {'box_factors': box_factors,\n",
    "                 'resolutions': resolutions}\n",
    "\n",
    "# Other parameters\n",
    "mode = 'optuna'\n",
    "geometry = 'xz'\n",
    "low_memory_mode = False\n",
    "n_threads = 24\n",
    "pol_idx = 0\n",
    "\n",
    "# Optuna params\n",
    "obj_param = 'N_disc_num'\n",
    "n_trials = 5\n",
    "\n",
    "data = {\n",
    "    '_mode': mode,\n",
    "    'lasers': laser_params,\n",
    "    'simbox_params': simbox_params,\n",
    "    'geometry': geometry,\n",
    "    'low_memory_mode': low_memory_mode,\n",
    "    'n_threads': n_threads,\n",
    "    'pol_idx': pol_idx,\n",
    "    'obj_param': obj_param,\n",
    "    'n_trials': n_trials\n",
    "}\n",
    "\n",
    "# Variable parameters \n",
    "laser_key = 'laser_1'\n",
    "param_key = 'beta'\n",
    "grid = [0,180,1,'uniform']\n",
    "vary_params = {laser_key:\n",
    "    {param_key: grid}\n",
    "}\n",
    "\n",
    "# Save yaml files\n",
    "folder = f'CCS'\n",
    "jobname = f'{param_key}_theta_{theta}'\n",
    "save_path = f'{work_path}/runs/{mode}/{folder}/{jobname}/'\n",
    "Path(os.path.dirname(save_path)).mkdir(parents=True, exist_ok=True)\n",
    "\n",
    "default_yaml = f'{save_path}default_params.yml'\n",
    "write_yaml(default_yaml, data)\n",
    "\n",
    "vary_yaml = f'{save_path}optuna_params.yml'\n",
    "write_yaml(vary_yaml, vary_params)\n",
    "\n",
    "script_path = f'{home_path}/cluster/optuna_cluster.py'\n",
    "script_kwargs = f'--save_path={save_path}'\n",
    "\n",
    "bash = template.format(jobname=f'opt_{jobname}',\n",
    "                       n_cpus=n_threads,\n",
    "                       script_path=script_path,\n",
    "                       script_kwargs=script_kwargs)\n",
    "\n",
    "bash_path = f'{save_path}job.slurm'\n",
    "with open(bash_path, 'w') as f:\n",
    "    f.write(bash)"
   ]
  },
  {
   "cell_type": "code",
   "execution_count": 4,
   "id": "fabfaea9-1c37-4edb-9d00-0ee18bd124bc",
   "metadata": {},
   "outputs": [
    {
     "name": "stdout",
     "output_type": "stream",
     "text": [
      "Submitted batch job 600622\n"
     ]
    },
    {
     "data": {
      "text/plain": [
       "0"
      ]
     },
     "execution_count": 4,
     "metadata": {},
     "output_type": "execute_result"
    }
   ],
   "source": [
    "os.system(f'sbatch {bash_path}')"
   ]
  },
  {
   "cell_type": "markdown",
   "id": "05a705a1-ec0d-47cb-9814-8ffe3bf79b07",
   "metadata": {
    "jp-MarkdownHeadingCollapsed": true,
    "tags": []
   },
   "source": [
    "### Bash for numerical consistency check"
   ]
  },
  {
   "cell_type": "code",
   "execution_count": 39,
   "id": "909dd42d-5d29-4a48-b07d-19b2f676e2c6",
   "metadata": {},
   "outputs": [],
   "source": [
    "# We need to test the same scattering configuration with a couple of \n",
    "# better numerical resolutions\n",
    "# 1) increase time resolution,\n",
    "# 2) increase spatial resolution\n",
    "# 3) increase box size in time\n",
    "# 4) increase box size in space\n",
    "\n",
    "# Laser pulse parameters\n",
    "theta = 180\n",
    "beta = 90\n",
    "\n",
    "# 1st laser\n",
    "laser_params = []\n",
    "laser = {\n",
    "    'tau': 25e-15,\n",
    "    'lam': 800e-9,\n",
    "    'w0x': 4*800e-9,\n",
    "    'w0y': 1*800e-9,\n",
    "    'W': 25,\n",
    "    'theta': 0,\n",
    "    'phi': 0,\n",
    "    'beta': 0,\n",
    "    'solution': 'gaussian_elliptical_paraxial'\n",
    "}\n",
    "laser['E0'] = float(W_to_E0(laser))\n",
    "laser_params.append(laser)\n",
    "\n",
    "# 2nd laser\n",
    "laser = {\n",
    "    'tau': 25e-15,\n",
    "    'lam': 800e-9,\n",
    "    'w0': 1*800e-9,\n",
    "    'W': 25,\n",
    "    'theta': theta,\n",
    "    'phi': 0,\n",
    "    'beta': beta,\n",
    "    'solution': 'gaussian_paraxial'\n",
    "}\n",
    "laser['E0'] = float(W_to_E0(laser))\n",
    "laser_params.append(laser)\n",
    "\n",
    "laser_params = {f'laser_{i}': value for i,value in enumerate(laser_params)}\n",
    "\n",
    "# Simulation box parameters\n",
    "box_factors = {\n",
    "    'long': 8,\n",
    "    'trans': 20,\n",
    "    't': 2\n",
    "}\n",
    "\n",
    "resolutions = {\n",
    "    'spatial': 2,\n",
    "    't': 1\n",
    "}\n",
    "simbox_params = {'box_factors': box_factors,\n",
    "                 'resolutions': resolutions}\n",
    "\n",
    "# Other parameters\n",
    "mode = 'gridscan'\n",
    "geometry = 'xz'\n",
    "low_memory_mode = False\n",
    "n_threads = 12\n",
    "pol_idx = 0\n",
    "\n",
    "data = {\n",
    "    'lasers': laser_params,\n",
    "    'simbox_params': simbox_params,\n",
    "    'geometry': geometry,\n",
    "    'low_memory_mode': low_memory_mode,\n",
    "    'n_threads': n_threads,\n",
    "    'pol_idx': pol_idx,\n",
    "}\n",
    "\n",
    "simbox_cases = {f'case_{i}': deepcopy(simbox_params) for i in range(0,5)}\n",
    "\n",
    "simbox_cases['case_1']['resolutions']['t'] = 2\n",
    "simbox_cases['case_2']['resolutions']['spatial'] = 3\n",
    "simbox_cases['case_3']['box_factors']['t'] = 4\n",
    "simbox_cases['case_4']['box_factors']['long'] = 10\n",
    "simbox_cases['case_4']['box_factors']['trans'] = 25\n",
    "\n",
    "folder = f'CCS'\n",
    "jobname = f'theta_{theta}'\n",
    "save_path = f'{work_path}/runs/resolution_check/{folder}/{jobname}/'\n",
    "\n",
    "for key in simbox_cases.keys():\n",
    "    data['simbox_params'] = simbox_cases[key]\n",
    "    default_yaml = f'{save_path}{key}/default_params.yml'\n",
    "    Path(os.path.dirname(default_yaml)).mkdir(parents=True, exist_ok=True)\n",
    "    write_yaml(default_yaml, data)"
   ]
  },
  {
   "cell_type": "code",
   "execution_count": 41,
   "id": "5ba0d1a6-58a2-470f-b228-8525e3443f86",
   "metadata": {},
   "outputs": [],
   "source": [
    "template_res = '''#!/bin/bash\n",
    "#SBATCH --job-name={jobname}\n",
    "#SBATCH --partition=hij-gpu\n",
    "#SBATCH --cpus-per-task={n_cpus}\n",
    "#SBATCH --time=6:00:00\n",
    "#SBATCH --mem=100GB\n",
    "#SBATCH --output=/work/wi73yus/bash_output/{jobname}.%A_%a.log\n",
    "#SBATCH --error=/work/wi73yus/bash_output/{jobname}.%A_%a.err\n",
    "#SBATCH --array=0-4\n",
    "\n",
    "arr=$SLURM_ARRAY_TASK_ID\n",
    "echo $arr\n",
    "\n",
    "source ~/.bashrc  #  not automatically read by slurm\n",
    "conda activate lbl  # activate here the anaconda environment you want to use\n",
    "\n",
    "python {script_path} {script_kwargs}\n",
    "'''\n",
    "\n",
    "script_path = f'{home_path}/cluster/simulation_cluster.py'\n",
    "save_path_arr = save_path + 'case_$arr/'\n",
    "script_kwargs = f'--save_path={save_path_arr}'\n",
    "\n",
    "bash = template_res.format(jobname=f'numcheck_{jobname}',\n",
    "                           n_cpus=n_threads,\n",
    "                           script_path=script_path,\n",
    "                           script_kwargs=script_kwargs)\n",
    "\n",
    "bash_path = f'{save_path}job.slurm'\n",
    "with open(bash_path, 'w') as f:\n",
    "    f.write(bash)"
   ]
  },
  {
   "cell_type": "code",
   "execution_count": 42,
   "id": "6af8a790-3c73-4d99-8ffb-1525a8c6003c",
   "metadata": {},
   "outputs": [
    {
     "name": "stdout",
     "output_type": "stream",
     "text": [
      "Submitted batch job 600314\n"
     ]
    },
    {
     "data": {
      "text/plain": [
       "0"
      ]
     },
     "execution_count": 42,
     "metadata": {},
     "output_type": "execute_result"
    }
   ],
   "source": [
    "os.system(f'sbatch {bash_path}')"
   ]
  },
  {
   "cell_type": "markdown",
   "id": "9d8b02ce-627a-4984-8463-060d57363446",
   "metadata": {},
   "source": [
    "### Bash for 2d grid scan where one dimension is performed in parallel"
   ]
  },
  {
   "cell_type": "code",
   "execution_count": null,
   "id": "fb0dafe2-14f4-415f-b63a-eb0847b0376b",
   "metadata": {},
   "outputs": [],
   "source": []
  },
  {
   "cell_type": "markdown",
   "id": "dd453d00-7b07-464c-9f07-aee73f1298a5",
   "metadata": {},
   "source": [
    "### Bash for optuna optimization from several jobs"
   ]
  },
  {
   "cell_type": "code",
   "execution_count": 1,
   "id": "1814f425-4cd9-4d2b-b149-ae5a192c46a3",
   "metadata": {},
   "outputs": [],
   "source": [
    "template_optuna = '''#!/bin/bash\n",
    "#SBATCH --job-name={jobname}\n",
    "#SBATCH --partition=hij-gpu\n",
    "#SBATCH --cpus-per-task={n_cpus}\n",
    "#SBATCH --time=1-00:00:00\n",
    "#SBATCH --mem=200GB\n",
    "#SBATCH --output=/work/wi73yus/bash_output/{jobname}.%A_%a.log\n",
    "#SBATCH --error=/work/wi73yus/bash_output/{jobname}.%A_%a.err\n",
    "#SBATCH --array=0-3\n",
    "\n",
    "source ~/.bashrc  #  not automatically read by slurm\n",
    "conda activate lbl  # activate here the anaconda environment you want to use\n",
    "\n",
    "echo $SLURM_ARRAY_TASK_ID\n",
    "\n",
    "if [ $SLURM_ARRAY_TASK_ID -gt 0 ]\n",
    "then\n",
    "    sleep 60\n",
    "fi\n",
    "\n",
    "python {script_path} {script_kwargs}\n",
    "'''"
   ]
  },
  {
   "cell_type": "markdown",
   "id": "78548530-34ee-4047-b793-7e533cd1510b",
   "metadata": {},
   "source": [
    "#### ECS optimizations"
   ]
  },
  {
   "cell_type": "code",
   "execution_count": 2,
   "id": "acfa75c8-60ba-4439-96de-64e852752e54",
   "metadata": {
    "collapsed": true,
    "jupyter": {
     "outputs_hidden": true
    },
    "tags": []
   },
   "outputs": [
    {
     "ename": "NameError",
     "evalue": "name 'W_to_E0' is not defined",
     "output_type": "error",
     "traceback": [
      "\u001b[0;31m---------------------------------------------------------------------------\u001b[0m",
      "\u001b[0;31mNameError\u001b[0m                                 Traceback (most recent call last)",
      "Cell \u001b[0;32mIn[2], line 18\u001b[0m\n\u001b[1;32m      6\u001b[0m laser_params \u001b[38;5;241m=\u001b[39m []\n\u001b[1;32m      7\u001b[0m laser \u001b[38;5;241m=\u001b[39m {\n\u001b[1;32m      8\u001b[0m     \u001b[38;5;124m'\u001b[39m\u001b[38;5;124mtau\u001b[39m\u001b[38;5;124m'\u001b[39m: \u001b[38;5;241m25e-15\u001b[39m,\n\u001b[1;32m      9\u001b[0m     \u001b[38;5;124m'\u001b[39m\u001b[38;5;124mlam\u001b[39m\u001b[38;5;124m'\u001b[39m: \u001b[38;5;241m800e-9\u001b[39m,\n\u001b[0;32m   (...)\u001b[0m\n\u001b[1;32m     16\u001b[0m     \u001b[38;5;124m'\u001b[39m\u001b[38;5;124msolution\u001b[39m\u001b[38;5;124m'\u001b[39m: \u001b[38;5;124m'\u001b[39m\u001b[38;5;124mgaussian_elliptical_paraxial\u001b[39m\u001b[38;5;124m'\u001b[39m\n\u001b[1;32m     17\u001b[0m }\n\u001b[0;32m---> 18\u001b[0m laser[\u001b[38;5;124m'\u001b[39m\u001b[38;5;124mE0\u001b[39m\u001b[38;5;124m'\u001b[39m] \u001b[38;5;241m=\u001b[39m \u001b[38;5;28mfloat\u001b[39m(\u001b[43mW_to_E0\u001b[49m(laser))\n\u001b[1;32m     19\u001b[0m laser_params\u001b[38;5;241m.\u001b[39mappend(laser)\n\u001b[1;32m     21\u001b[0m \u001b[38;5;66;03m# 2nd laser\u001b[39;00m\n",
      "\u001b[0;31mNameError\u001b[0m: name 'W_to_E0' is not defined"
     ]
    }
   ],
   "source": [
    "# Laser pulse parameters\n",
    "theta = 180\n",
    "beta = 90\n",
    "\n",
    "# 1st laser\n",
    "laser_params = []\n",
    "laser = {\n",
    "    'tau': 25e-15,\n",
    "    'lam': 800e-9,\n",
    "    'w0x': 9*800e-9,\n",
    "    'w0y': 1*800e-9,\n",
    "    'W': 25,\n",
    "    'theta': 0,\n",
    "    'phi': 0,\n",
    "    'beta': 0,\n",
    "    'solution': 'gaussian_elliptical_paraxial'\n",
    "}\n",
    "laser['E0'] = float(W_to_E0(laser))\n",
    "laser_params.append(laser)\n",
    "\n",
    "# 2nd laser\n",
    "laser = {\n",
    "    'tau': 25e-15,\n",
    "    'lam': 800e-9,\n",
    "    'w0': 1*800e-9,\n",
    "    'W': 25,\n",
    "    'theta': theta,\n",
    "    'phi': 0,\n",
    "    'beta': beta,\n",
    "    'solution': 'gaussian_paraxial'\n",
    "}\n",
    "laser['E0'] = float(W_to_E0(laser))\n",
    "laser_params.append(laser)\n",
    "\n",
    "laser_params = {f'laser_{i}': value for i,value in enumerate(laser_params)}\n",
    "\n",
    "# Simulation box parameters\n",
    "box_factors = {\n",
    "    'long': 8,\n",
    "    'trans': 20,\n",
    "    't': 2\n",
    "}\n",
    "\n",
    "resolutions = {\n",
    "    'spatial': 2,\n",
    "    't': 1\n",
    "}\n",
    "simbox_params = {'box_factors': box_factors,\n",
    "                 'resolutions': resolutions}\n",
    "\n",
    "# Other parameters\n",
    "mode = 'optuna'\n",
    "geometry = 'z'\n",
    "low_memory_mode = False\n",
    "n_threads = 20\n",
    "pol_idx = 0\n",
    "\n",
    "# Optuna params\n",
    "obj_param = 'N_disc_num'\n",
    "n_trials = 5\n",
    "consider_endpoints = True\n",
    "\n",
    "data = {\n",
    "    '_mode': mode,\n",
    "    'lasers': laser_params,\n",
    "    'simbox_params': simbox_params,\n",
    "    'geometry': geometry,\n",
    "    'low_memory_mode': low_memory_mode,\n",
    "    'n_threads': n_threads,\n",
    "    'pol_idx': pol_idx,\n",
    "    'obj_param': obj_param,\n",
    "    'n_trials': n_trials,\n",
    "    'consider_endpoints': consider_endpoints\n",
    "}\n",
    "\n",
    "# Variable parameters \n",
    "param_key = 'W'\n",
    "grid = [0,50,1,'uniform']\n",
    "vary_params = {\n",
    "    'laser_0':\n",
    "        {'W': grid}\n",
    "}\n",
    "\n",
    "# Save yaml files\n",
    "folder = f'ECS'\n",
    "subfolder = f'{param_key}_theta_{theta}_multi'\n",
    "save_path = f'{work_path}/runs/{mode}/{folder}/{subfolder}/'\n",
    "Path(os.path.dirname(save_path)).mkdir(parents=True, exist_ok=True)\n",
    "\n",
    "default_yaml = f'{save_path}default_params.yml'\n",
    "write_yaml(default_yaml, data)\n",
    "\n",
    "vary_yaml = f'{save_path}optuna_params.yml'\n",
    "write_yaml(vary_yaml, vary_params)"
   ]
  },
  {
   "cell_type": "code",
   "execution_count": 9,
   "id": "7d92e092-96dd-423d-84c6-5d96f90246b1",
   "metadata": {},
   "outputs": [],
   "source": [
    "jobname = f'm_opt_{param_key}'\n",
    "\n",
    "script_path = f'{home_path}/cluster/optuna_cluster.py'\n",
    "script_kwargs = f'--save_path={save_path}'\n",
    "\n",
    "bash = template_optuna.format(jobname=f'{jobname}',\n",
    "                              n_cpus=n_threads,\n",
    "                              script_path=script_path,\n",
    "                              script_kwargs=script_kwargs)\n",
    "\n",
    "bash_path = f'{save_path}job.slurm'\n",
    "with open(bash_path, 'w') as f:\n",
    "    f.write(bash)"
   ]
  },
  {
   "cell_type": "code",
   "execution_count": 10,
   "id": "c722e8c7-65c9-4690-89b4-aad6e3a3901e",
   "metadata": {},
   "outputs": [
    {
     "name": "stdout",
     "output_type": "stream",
     "text": [
      "Submitted batch job 706400\n"
     ]
    },
    {
     "data": {
      "text/plain": [
       "0"
      ]
     },
     "execution_count": 10,
     "metadata": {},
     "output_type": "execute_result"
    }
   ],
   "source": [
    "os.system(f'sbatch {bash_path}')"
   ]
  },
  {
   "cell_type": "markdown",
   "id": "ec34d80c-5c53-4583-9db5-229f6b43c001",
   "metadata": {},
   "source": [
    "#### Harmonics optimization"
   ]
  },
  {
   "cell_type": "code",
   "execution_count": 5,
   "id": "262ae492-3538-4f23-9975-a92649de434b",
   "metadata": {},
   "outputs": [
    {
     "ename": "NameError",
     "evalue": "name 'mode' is not defined",
     "output_type": "error",
     "traceback": [
      "\u001b[0;31m---------------------------------------------------------------------------\u001b[0m",
      "\u001b[0;31mNameError\u001b[0m                                 Traceback (most recent call last)",
      "Cell \u001b[0;32mIn[5], line 68\u001b[0m\n\u001b[1;32m     64\u001b[0m n_trials \u001b[38;5;241m=\u001b[39m \u001b[38;5;241m5\u001b[39m\n\u001b[1;32m     65\u001b[0m consider_endpoints \u001b[38;5;241m=\u001b[39m \u001b[38;5;28;01mTrue\u001b[39;00m\n\u001b[1;32m     67\u001b[0m data \u001b[38;5;241m=\u001b[39m {\n\u001b[0;32m---> 68\u001b[0m     \u001b[38;5;124m'\u001b[39m\u001b[38;5;124m_mode\u001b[39m\u001b[38;5;124m'\u001b[39m: \u001b[43mmode\u001b[49m,\n\u001b[1;32m     69\u001b[0m     \u001b[38;5;124m'\u001b[39m\u001b[38;5;124mlasers\u001b[39m\u001b[38;5;124m'\u001b[39m: laser_params,\n\u001b[1;32m     70\u001b[0m     \u001b[38;5;124m'\u001b[39m\u001b[38;5;124msimbox_params\u001b[39m\u001b[38;5;124m'\u001b[39m: simbox_params,\n\u001b[1;32m     71\u001b[0m     \u001b[38;5;124m'\u001b[39m\u001b[38;5;124mgeometry\u001b[39m\u001b[38;5;124m'\u001b[39m: geometry,\n\u001b[1;32m     72\u001b[0m     \u001b[38;5;124m'\u001b[39m\u001b[38;5;124mlow_memory_mode\u001b[39m\u001b[38;5;124m'\u001b[39m: low_memory_mode,\n\u001b[1;32m     73\u001b[0m     \u001b[38;5;124m'\u001b[39m\u001b[38;5;124mn_threads\u001b[39m\u001b[38;5;124m'\u001b[39m: n_threads,\n\u001b[1;32m     74\u001b[0m     \u001b[38;5;124m'\u001b[39m\u001b[38;5;124mpol_idx\u001b[39m\u001b[38;5;124m'\u001b[39m: pol_idx,\n\u001b[1;32m     75\u001b[0m     \u001b[38;5;124m'\u001b[39m\u001b[38;5;124mobj_param\u001b[39m\u001b[38;5;124m'\u001b[39m: obj_param,\n\u001b[1;32m     76\u001b[0m     \u001b[38;5;124m'\u001b[39m\u001b[38;5;124mn_trials\u001b[39m\u001b[38;5;124m'\u001b[39m: n_trials,\n\u001b[1;32m     77\u001b[0m     \u001b[38;5;124m'\u001b[39m\u001b[38;5;124mconsider_endpoints\u001b[39m\u001b[38;5;124m'\u001b[39m: consider_endpoints,\n\u001b[1;32m     78\u001b[0m     \u001b[38;5;124m'\u001b[39m\u001b[38;5;124mdiscernible_spectral\u001b[39m\u001b[38;5;124m'\u001b[39m: discernible_spectral,\n\u001b[1;32m     79\u001b[0m     \u001b[38;5;124m'\u001b[39m\u001b[38;5;124msphmap_params\u001b[39m\u001b[38;5;124m'\u001b[39m: sphmap_params\n\u001b[1;32m     80\u001b[0m }\n\u001b[1;32m     82\u001b[0m \u001b[38;5;66;03m# Variable parameters \u001b[39;00m\n\u001b[1;32m     83\u001b[0m param_key \u001b[38;5;241m=\u001b[39m \u001b[38;5;124m'\u001b[39m\u001b[38;5;124mW\u001b[39m\u001b[38;5;124m'\u001b[39m\n",
      "\u001b[0;31mNameError\u001b[0m: name 'mode' is not defined"
     ]
    }
   ],
   "source": [
    "# Laser pulse parameters\n",
    "theta = 180\n",
    "beta = 90\n",
    "\n",
    "# 1st laser\n",
    "laser_params = []\n",
    "for i in range(1,3):\n",
    "    laser = {\n",
    "        'tau': 25e-15,\n",
    "        'lam': 800e-9/i,\n",
    "        'w0': 4*800e-9/i,\n",
    "        'W': 12.5,\n",
    "        'theta': 0,\n",
    "        'phi': 0,\n",
    "        'beta': 0,\n",
    "        'solution': 'gaussian_paraxial'\n",
    "    }\n",
    "    laser['E0'] = float(W_to_E0(laser))\n",
    "    laser_params.append(laser)\n",
    "\n",
    "# 2nd laser\n",
    "laser = {\n",
    "    'tau': 25e-15,\n",
    "    'lam': 800e-9,\n",
    "    'w0': 1*800e-9,\n",
    "    'W': 25,\n",
    "    'theta': theta,\n",
    "    'phi': 0,\n",
    "    'beta': beta,\n",
    "    'solution': 'gaussian_paraxial'\n",
    "}\n",
    "laser['E0'] = float(W_to_E0(laser))\n",
    "laser_params.append(laser)\n",
    "\n",
    "laser_params = {f'laser_{i}': value for i,value in enumerate(laser_params)}\n",
    "\n",
    "# Simulation box parameters\n",
    "box_factors = {\n",
    "    'long': 8,\n",
    "    'trans': 20,\n",
    "    't': 2\n",
    "}\n",
    "\n",
    "resolutions = {\n",
    "    'spatial': 2,\n",
    "    't': 1\n",
    "}\n",
    "simbox_params = {'box_factors': box_factors,\n",
    "                 'resolutions': resolutions}\n",
    "\n",
    "geometry = 'z'\n",
    "low_memory_mode = False\n",
    "n_threads = 20\n",
    "pol_idx = 0\n",
    "\n",
    "discernible_spectral = True\n",
    "sphmap_params = {\n",
    "    'order': 1,\n",
    "    'angular_resolution': 0.5/180*np.pi\n",
    "}\n",
    "\n",
    "# Optuna params\n",
    "obj_param = 'N_disc_num'\n",
    "n_trials = 5\n",
    "consider_endpoints = True\n",
    "\n",
    "data = {\n",
    "    '_mode': mode,\n",
    "    'lasers': laser_params,\n",
    "    'simbox_params': simbox_params,\n",
    "    'geometry': geometry,\n",
    "    'low_memory_mode': low_memory_mode,\n",
    "    'n_threads': n_threads,\n",
    "    'pol_idx': pol_idx,\n",
    "    'obj_param': obj_param,\n",
    "    'n_trials': n_trials,\n",
    "    'consider_endpoints': consider_endpoints,\n",
    "    'discernible_spectral': discernible_spectral,\n",
    "    'sphmap_params': sphmap_params\n",
    "}\n",
    "\n",
    "# Variable parameters \n",
    "param_key = 'W'\n",
    "grid = [0,50,1,'uniform']\n",
    "vary_params = {\n",
    "    'laser_0':\n",
    "        {'W': grid}\n",
    "}\n",
    "\n",
    "# Save yaml files\n",
    "folder = f'harmonics'\n",
    "subfolder = f'2omega_{param_key}_theta_{theta}_multi'\n",
    "save_path = f'{work_path}/runs/{mode}/{folder}/{subfolder}/'\n",
    "Path(os.path.dirname(save_path)).mkdir(parents=True, exist_ok=True)\n",
    "\n",
    "default_yaml = f'{save_path}default_params.yml'\n",
    "write_yaml(default_yaml, data)\n",
    "\n",
    "vary_yaml = f'{save_path}optuna_params.yml'\n",
    "write_yaml(vary_yaml, vary_params)"
   ]
  },
  {
   "cell_type": "code",
   "execution_count": 15,
   "id": "864085a2-c1bb-4691-a1f5-f73bf8f66e69",
   "metadata": {},
   "outputs": [],
   "source": [
    "jobname = f'm_opt_{param_key}'\n",
    "\n",
    "script_path = f'{home_path}/cluster/optuna_cluster.py'\n",
    "script_kwargs = f'--save_path={save_path}'\n",
    "\n",
    "bash = template_optuna.format(jobname=f'{jobname}',\n",
    "                              n_cpus=n_threads,\n",
    "                              script_path=script_path,\n",
    "                              script_kwargs=script_kwargs)\n",
    "\n",
    "bash_path = f'{save_path}job.slurm'\n",
    "with open(bash_path, 'w') as f:\n",
    "    f.write(bash)"
   ]
  },
  {
   "cell_type": "code",
   "execution_count": 16,
   "id": "8ecdabdb-6a8f-440e-b341-c85e248ad41f",
   "metadata": {},
   "outputs": [
    {
     "name": "stdout",
     "output_type": "stream",
     "text": [
      "Submitted batch job 706767\n"
     ]
    },
    {
     "data": {
      "text/plain": [
       "0"
      ]
     },
     "execution_count": 16,
     "metadata": {},
     "output_type": "execute_result"
    }
   ],
   "source": [
    "os.system(f'sbatch {bash_path}')"
   ]
  },
  {
   "cell_type": "code",
   "execution_count": null,
   "id": "caa50049-589f-4e3d-9ecc-f707b2b08abd",
   "metadata": {},
   "outputs": [],
   "source": []
  }
 ],
 "metadata": {
  "kernelspec": {
   "display_name": "Python 3 (ipykernel)",
   "language": "python",
   "name": "python3"
  },
  "language_info": {
   "codemirror_mode": {
    "name": "ipython",
    "version": 3
   },
   "file_extension": ".py",
   "mimetype": "text/x-python",
   "name": "python",
   "nbconvert_exporter": "python",
   "pygments_lexer": "ipython3",
   "version": "3.9.15"
  }
 },
 "nbformat": 4,
 "nbformat_minor": 5
}
