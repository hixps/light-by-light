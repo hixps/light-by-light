{
 "cells": [
  {
   "cell_type": "markdown",
   "id": "aeaf34a0-d107-486d-bf67-5d2dc7ffee14",
   "metadata": {},
   "source": [
    "Create bash scripts"
   ]
  },
  {
   "cell_type": "code",
   "execution_count": 1,
   "id": "2f145c4a-8458-4ca9-a8e0-e7684ba65f59",
   "metadata": {},
   "outputs": [
    {
     "name": "stderr",
     "output_type": "stream",
     "text": [
      "/home/wi73yus/.conda/envs/lbl/lib/python3.9/site-packages/pyfftw/interfaces/__init__.py:268: DeprecationWarning: distutils Version classes are deprecated. Use packaging.version instead.\n",
      "  has_scipy_fft = _LooseVersion(scipy.__version__) >= _LooseVersion('1.4.0')\n"
     ]
    }
   ],
   "source": [
    "import os\n",
    "from pathlib import Path\n",
    "import numpy as np\n",
    "from copy import deepcopy\n",
    "\n",
    "from light_by_light.vacem_ini import W_to_E0\n",
    "from light_by_light.utils import write_yaml"
   ]
  },
  {
   "cell_type": "code",
   "execution_count": 2,
   "id": "07abb96d-480a-44d2-a21e-ba6578c5616a",
   "metadata": {},
   "outputs": [],
   "source": [
    "template = '''#!/bin/bash\n",
    "#SBATCH --job-name={jobname}\n",
    "#SBATCH --partition=hij-gpu\n",
    "#SBATCH --cpus-per-task={n_cpus}\n",
    "#SBATCH --time=1-00:00:00\n",
    "#SBATCH --mem=200GB\n",
    "#SBATCH --output=/work/wi73yus/bash_output/{jobname}.%j.log\n",
    "#SBATCH --error=/work/wi73yus/bash_output/{jobname}.%j.err\n",
    "\n",
    "source ~/.bashrc  #  not automatically read by slurm\n",
    "conda activate lbl  # activate here the anaconda environment you want to use\n",
    "\n",
    "python {script_path} {script_kwargs}\n",
    "'''\n",
    "\n",
    "home_path = '/home/wi73yus/light-by-light'\n",
    "work_path = '/work/wi73yus/light-by-light-experiments'"
   ]
  },
  {
   "cell_type": "markdown",
   "id": "e024d457-c51c-41bc-883d-aca1bc41fe91",
   "metadata": {
    "jp-MarkdownHeadingCollapsed": true,
    "tags": []
   },
   "source": [
    "### Bash script for 1d grid scan"
   ]
  },
  {
   "cell_type": "code",
   "execution_count": 9,
   "id": "5dc2fa95-9e17-4958-afab-d73c9f74f811",
   "metadata": {},
   "outputs": [],
   "source": [
    "# Laser pulse parameters\n",
    "theta = 180\n",
    "beta = 90\n",
    "\n",
    "# 1st laser\n",
    "laser_params = []\n",
    "laser = {\n",
    "    'tau': 25e-15,\n",
    "    'lam': 800e-9,\n",
    "    'w0': 1*800e-9,\n",
    "    'W': 25,\n",
    "    'theta': 0,\n",
    "    'phi': 0,\n",
    "    'beta': 0,\n",
    "    'solution': 'gaussian_paraxial'\n",
    "}\n",
    "laser['E0'] = float(W_to_E0(laser))\n",
    "laser_params.append(laser)\n",
    "\n",
    "# 2nd laser\n",
    "laser = {\n",
    "    'tau': 25e-15,\n",
    "    'lam': 800e-9,\n",
    "    'w0': 1*800e-9,\n",
    "    'W': 25,\n",
    "    'theta': theta,\n",
    "    'phi': 0,\n",
    "    'beta': beta,\n",
    "    'solution': 'gaussian_paraxial'\n",
    "}\n",
    "laser['E0'] = float(W_to_E0(laser))\n",
    "laser_params.append(laser)\n",
    "\n",
    "laser_params = {f'laser_{i}': value for i,value in enumerate(laser_params)}\n",
    "\n",
    "# Simulation box parameters\n",
    "box_factors = {\n",
    "    'long': 8,\n",
    "    'trans': 20,\n",
    "    't': 2\n",
    "}\n",
    "\n",
    "resolutions = {\n",
    "    'spatial': 2,\n",
    "    't': 1\n",
    "}\n",
    "simbox_params = {'box_factors': box_factors,\n",
    "                 'resolutions': resolutions}\n",
    "\n",
    "# Other parameters\n",
    "mode = 'gridscan'\n",
    "geometry = 'xz'\n",
    "low_memory_mode = False\n",
    "n_threads = 24\n",
    "pol_idx = 0\n",
    "\n",
    "# Variable parameters \n",
    "laser_key = 'laser_1'\n",
    "param_key = 'w0'\n",
    "grid = [1,9,9,800e-9]\n",
    "vary_params = {\n",
    "    'lasers': {laser_key: {param_key: grid}}\n",
    "}\n",
    "\n",
    "# Save yaml file\n",
    "data = {\n",
    "    '_mode': mode,\n",
    "    'lasers': laser_params,\n",
    "    'simbox_params': simbox_params,\n",
    "    'geometry': geometry,\n",
    "    'low_memory_mode': low_memory_mode,\n",
    "    'n_threads': n_threads,\n",
    "    'pol_idx': pol_idx\n",
    "}\n",
    "\n",
    "folder = f'CCS'\n",
    "jobname = f'{param_key}_theta_{theta}'\n",
    "save_path = f'{work_path}/runs/{mode}/{folder}/{jobname}/'\n",
    "Path(os.path.dirname(save_path)).mkdir(parents=True, exist_ok=True)\n",
    "\n",
    "default_yaml = f'{save_path}default_params.yml'\n",
    "write_yaml(default_yaml, data)\n",
    "\n",
    "vary_yaml = f'{save_path}vary_params.yml'\n",
    "write_yaml(vary_yaml, vary_params)\n",
    "\n",
    "# Create bash script\n",
    "script_path = f'{home_path}/cluster/gridscan_cluster.py'\n",
    "script_kwargs = f'--save_path={save_path}'\n",
    "\n",
    "bash = template.format(jobname=jobname,\n",
    "                       n_cpus=n_threads,\n",
    "                       script_path=script_path,\n",
    "                       script_kwargs=script_kwargs)\n",
    "\n",
    "bash_path = f'{save_path}job.slurm'\n",
    "with open(bash_path, 'w') as f:\n",
    "    f.write(bash)"
   ]
  },
  {
   "cell_type": "code",
   "execution_count": 4,
   "id": "8ea13073-02ac-4b96-b268-a138c8995eab",
   "metadata": {},
   "outputs": [
    {
     "name": "stdout",
     "output_type": "stream",
     "text": [
      "Submitted batch job 598721\n"
     ]
    },
    {
     "data": {
      "text/plain": [
       "0"
      ]
     },
     "execution_count": 4,
     "metadata": {},
     "output_type": "execute_result"
    }
   ],
   "source": [
    "os.system(f'sbatch {bash_path}')"
   ]
  },
  {
   "cell_type": "markdown",
   "id": "3267f787-08a9-4ebf-a362-e889f936e845",
   "metadata": {
    "tags": []
   },
   "source": [
    "### Bash script for optuna optimization"
   ]
  },
  {
   "cell_type": "code",
   "execution_count": 3,
   "id": "86e74174-a270-4d7d-98e6-67dfe894af0e",
   "metadata": {},
   "outputs": [],
   "source": [
    "# Laser pulse parameters\n",
    "theta = 180\n",
    "beta = 90\n",
    "\n",
    "# 1st laser\n",
    "laser_params = []\n",
    "laser = {\n",
    "    'tau': 25e-15,\n",
    "    'lam': 800e-9,\n",
    "    'w0': 2*800e-9,\n",
    "    'W': 25,\n",
    "    'theta': 0,\n",
    "    'phi': 0,\n",
    "    'beta': 0,\n",
    "    'solution': 'gaussian_paraxial'\n",
    "}\n",
    "laser['E0'] = float(W_to_E0(laser))\n",
    "laser_params.append(laser)\n",
    "\n",
    "# 2nd laser\n",
    "laser = {\n",
    "    'tau': 25e-15,\n",
    "    'lam': 800e-9,\n",
    "    'w0': 2*800e-9,\n",
    "    'W': 25,\n",
    "    'theta': theta,\n",
    "    'phi': 0,\n",
    "    'beta': beta,\n",
    "    'solution': 'gaussian_paraxial'\n",
    "}\n",
    "laser['E0'] = float(W_to_E0(laser))\n",
    "laser_params.append(laser)\n",
    "\n",
    "laser_params = {f'laser_{i}': value for i,value in enumerate(laser_params)}\n",
    "\n",
    "# Simulation box parameters\n",
    "box_factors = {\n",
    "    'long': 8,\n",
    "    'trans': 20,\n",
    "    't': 2\n",
    "}\n",
    "\n",
    "resolutions = {\n",
    "    'spatial': 2,\n",
    "    't': 1\n",
    "}\n",
    "simbox_params = {'box_factors': box_factors,\n",
    "                 'resolutions': resolutions}\n",
    "\n",
    "# Other parameters\n",
    "mode = 'optuna'\n",
    "geometry = 'xz'\n",
    "low_memory_mode = False\n",
    "n_threads = 24\n",
    "pol_idx = 0\n",
    "\n",
    "# Optuna params\n",
    "obj_param = 'N_disc_num'\n",
    "n_trials = 5\n",
    "\n",
    "data = {\n",
    "    '_mode': mode,\n",
    "    'lasers': laser_params,\n",
    "    'simbox_params': simbox_params,\n",
    "    'geometry': geometry,\n",
    "    'low_memory_mode': low_memory_mode,\n",
    "    'n_threads': n_threads,\n",
    "    'pol_idx': pol_idx,\n",
    "    'obj_param': obj_param,\n",
    "    'n_trials': n_trials\n",
    "}\n",
    "\n",
    "# Variable parameters \n",
    "laser_key = 'laser_1'\n",
    "param_key = 'beta'\n",
    "grid = [0,180,1,'uniform']\n",
    "vary_params = {laser_key:\n",
    "    {param_key: grid}\n",
    "}\n",
    "\n",
    "# Save yaml files\n",
    "folder = f'CCS'\n",
    "jobname = f'{param_key}_theta_{theta}'\n",
    "save_path = f'{work_path}/runs/{mode}/{folder}/{jobname}/'\n",
    "Path(os.path.dirname(save_path)).mkdir(parents=True, exist_ok=True)\n",
    "\n",
    "default_yaml = f'{save_path}default_params.yml'\n",
    "write_yaml(default_yaml, data)\n",
    "\n",
    "vary_yaml = f'{save_path}optuna_params.yml'\n",
    "write_yaml(vary_yaml, vary_params)\n",
    "\n",
    "script_path = f'{home_path}/cluster/optuna_cluster.py'\n",
    "script_kwargs = f'--save_path={save_path}'\n",
    "\n",
    "bash = template.format(jobname=f'opt_{jobname}',\n",
    "                       n_cpus=n_threads,\n",
    "                       script_path=script_path,\n",
    "                       script_kwargs=script_kwargs)\n",
    "\n",
    "bash_path = f'{save_path}job.slurm'\n",
    "with open(bash_path, 'w') as f:\n",
    "    f.write(bash)"
   ]
  },
  {
   "cell_type": "code",
   "execution_count": 4,
   "id": "fabfaea9-1c37-4edb-9d00-0ee18bd124bc",
   "metadata": {},
   "outputs": [
    {
     "name": "stdout",
     "output_type": "stream",
     "text": [
      "Submitted batch job 600622\n"
     ]
    },
    {
     "data": {
      "text/plain": [
       "0"
      ]
     },
     "execution_count": 4,
     "metadata": {},
     "output_type": "execute_result"
    }
   ],
   "source": [
    "os.system(f'sbatch {bash_path}')"
   ]
  },
  {
   "cell_type": "markdown",
   "id": "05a705a1-ec0d-47cb-9814-8ffe3bf79b07",
   "metadata": {},
   "source": [
    "### Bash for numerical consistency check"
   ]
  },
  {
   "cell_type": "code",
   "execution_count": 39,
   "id": "909dd42d-5d29-4a48-b07d-19b2f676e2c6",
   "metadata": {},
   "outputs": [],
   "source": [
    "# We need to test the same scattering configuration with a couple of \n",
    "# better numerical resolutions\n",
    "# 1) increase time resolution,\n",
    "# 2) increase spatial resolution\n",
    "# 3) increase box size in time\n",
    "# 4) increase box size in space\n",
    "\n",
    "# Laser pulse parameters\n",
    "theta = 180\n",
    "beta = 90\n",
    "\n",
    "# 1st laser\n",
    "laser_params = []\n",
    "laser = {\n",
    "    'tau': 25e-15,\n",
    "    'lam': 800e-9,\n",
    "    'w0x': 4*800e-9,\n",
    "    'w0y': 1*800e-9,\n",
    "    'W': 25,\n",
    "    'theta': 0,\n",
    "    'phi': 0,\n",
    "    'beta': 0,\n",
    "    'solution': 'gaussian_elliptical_paraxial'\n",
    "}\n",
    "laser['E0'] = float(W_to_E0(laser))\n",
    "laser_params.append(laser)\n",
    "\n",
    "# 2nd laser\n",
    "laser = {\n",
    "    'tau': 25e-15,\n",
    "    'lam': 800e-9,\n",
    "    'w0': 1*800e-9,\n",
    "    'W': 25,\n",
    "    'theta': theta,\n",
    "    'phi': 0,\n",
    "    'beta': beta,\n",
    "    'solution': 'gaussian_paraxial'\n",
    "}\n",
    "laser['E0'] = float(W_to_E0(laser))\n",
    "laser_params.append(laser)\n",
    "\n",
    "laser_params = {f'laser_{i}': value for i,value in enumerate(laser_params)}\n",
    "\n",
    "# Simulation box parameters\n",
    "box_factors = {\n",
    "    'long': 8,\n",
    "    'trans': 20,\n",
    "    't': 2\n",
    "}\n",
    "\n",
    "resolutions = {\n",
    "    'spatial': 2,\n",
    "    't': 1\n",
    "}\n",
    "simbox_params = {'box_factors': box_factors,\n",
    "                 'resolutions': resolutions}\n",
    "\n",
    "# Other parameters\n",
    "mode = 'gridscan'\n",
    "geometry = 'xz'\n",
    "low_memory_mode = False\n",
    "n_threads = 12\n",
    "pol_idx = 0\n",
    "\n",
    "data = {\n",
    "    'lasers': laser_params,\n",
    "    'simbox_params': simbox_params,\n",
    "    'geometry': geometry,\n",
    "    'low_memory_mode': low_memory_mode,\n",
    "    'n_threads': n_threads,\n",
    "    'pol_idx': pol_idx,\n",
    "}\n",
    "\n",
    "simbox_cases = {f'case_{i}': deepcopy(simbox_params) for i in range(0,5)}\n",
    "\n",
    "simbox_cases['case_1']['resolutions']['t'] = 2\n",
    "simbox_cases['case_2']['resolutions']['spatial'] = 3\n",
    "simbox_cases['case_3']['box_factors']['t'] = 4\n",
    "simbox_cases['case_4']['box_factors']['long'] = 10\n",
    "simbox_cases['case_4']['box_factors']['trans'] = 25\n",
    "\n",
    "folder = f'CCS'\n",
    "jobname = f'theta_{theta}'\n",
    "save_path = f'{work_path}/runs/resolution_check/{folder}/{jobname}/'\n",
    "\n",
    "for key in simbox_cases.keys():\n",
    "    data['simbox_params'] = simbox_cases[key]\n",
    "    default_yaml = f'{save_path}{key}/default_params.yml'\n",
    "    Path(os.path.dirname(default_yaml)).mkdir(parents=True, exist_ok=True)\n",
    "    write_yaml(default_yaml, data)"
   ]
  },
  {
   "cell_type": "code",
   "execution_count": 41,
   "id": "5ba0d1a6-58a2-470f-b228-8525e3443f86",
   "metadata": {},
   "outputs": [],
   "source": [
    "template_res = '''#!/bin/bash\n",
    "#SBATCH --job-name={jobname}\n",
    "#SBATCH --partition=hij-gpu\n",
    "#SBATCH --cpus-per-task={n_cpus}\n",
    "#SBATCH --time=6:00:00\n",
    "#SBATCH --mem=100GB\n",
    "#SBATCH --output=/work/wi73yus/bash_output/{jobname}.%A_%a.log\n",
    "#SBATCH --error=/work/wi73yus/bash_output/{jobname}.%A_%a.err\n",
    "#SBATCH --array=0-4\n",
    "\n",
    "arr=$SLURM_ARRAY_TASK_ID\n",
    "echo $arr\n",
    "\n",
    "source ~/.bashrc  #  not automatically read by slurm\n",
    "conda activate lbl  # activate here the anaconda environment you want to use\n",
    "\n",
    "python {script_path} {script_kwargs}\n",
    "'''\n",
    "\n",
    "script_path = f'{home_path}/cluster/simulation_cluster.py'\n",
    "save_path_arr = save_path + 'case_$arr/'\n",
    "script_kwargs = f'--save_path={save_path_arr}'\n",
    "\n",
    "bash = template_res.format(jobname=f'numcheck_{jobname}',\n",
    "                           n_cpus=n_threads,\n",
    "                           script_path=script_path,\n",
    "                           script_kwargs=script_kwargs)\n",
    "\n",
    "bash_path = f'{save_path}job.slurm'\n",
    "with open(bash_path, 'w') as f:\n",
    "    f.write(bash)"
   ]
  },
  {
   "cell_type": "code",
   "execution_count": 42,
   "id": "6af8a790-3c73-4d99-8ffb-1525a8c6003c",
   "metadata": {},
   "outputs": [
    {
     "name": "stdout",
     "output_type": "stream",
     "text": [
      "Submitted batch job 600314\n"
     ]
    },
    {
     "data": {
      "text/plain": [
       "0"
      ]
     },
     "execution_count": 42,
     "metadata": {},
     "output_type": "execute_result"
    }
   ],
   "source": [
    "os.system(f'sbatch {bash_path}')"
   ]
  },
  {
   "cell_type": "markdown",
   "id": "9d8b02ce-627a-4984-8463-060d57363446",
   "metadata": {},
   "source": [
    "### Bash for 2d grid scan where one dimension is performed in parallel"
   ]
  },
  {
   "cell_type": "code",
   "execution_count": null,
   "id": "fb0dafe2-14f4-415f-b63a-eb0847b0376b",
   "metadata": {},
   "outputs": [],
   "source": []
  },
  {
   "cell_type": "markdown",
   "id": "dd453d00-7b07-464c-9f07-aee73f1298a5",
   "metadata": {},
   "source": [
    "### Bash for optuna optimization from several jobs"
   ]
  },
  {
   "cell_type": "code",
   "execution_count": null,
   "id": "acfa75c8-60ba-4439-96de-64e852752e54",
   "metadata": {},
   "outputs": [],
   "source": []
  }
 ],
 "metadata": {
  "kernelspec": {
   "display_name": "Python 3 (ipykernel)",
   "language": "python",
   "name": "python3"
  },
  "language_info": {
   "codemirror_mode": {
    "name": "ipython",
    "version": 3
   },
   "file_extension": ".py",
   "mimetype": "text/x-python",
   "name": "python",
   "nbconvert_exporter": "python",
   "pygments_lexer": "ipython3",
   "version": "3.9.15"
  }
 },
 "nbformat": 4,
 "nbformat_minor": 5
}
